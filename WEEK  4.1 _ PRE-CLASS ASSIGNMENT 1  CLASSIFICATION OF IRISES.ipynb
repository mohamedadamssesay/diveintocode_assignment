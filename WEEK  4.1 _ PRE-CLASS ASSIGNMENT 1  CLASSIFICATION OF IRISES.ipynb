{
 "cells": [
  {
   "cell_type": "markdown",
   "metadata": {
    "id": "-pBeCJK5_I0v"
   },
   "source": [
    "# **List of methods used this time**"
   ]
  },
  {
   "cell_type": "markdown",
   "metadata": {
    "id": "FexLqljq_yj9"
   },
   "source": [
    "We will use scikit-learn to train and estimate the following methods. We will not go into the details of each method at this stage. We will simply see that all of them can be easily used with the library, and that there are differences in the results of each method.\n",
    "\n",
    "* Nearest neighbor method\n",
    "* Logistic regression\n",
    "* SVM\n",
    "* Decision tree\n",
    "* Random forest"
   ]
  },
  {
   "cell_type": "markdown",
   "metadata": {
    "id": "jiVFz7ki_-jm"
   },
   "source": [
    "# **[Problem 1] Select features and categories for practice**"
   ]
  },
  {
   "cell_type": "code",
   "execution_count": 3,
   "metadata": {
    "executionInfo": {
     "elapsed": 1372,
     "status": "ok",
     "timestamp": 1613766957217,
     "user": {
      "displayName": "Alhaji Fortune",
      "photoUrl": "https://lh3.googleusercontent.com/a-/AOh14GiRAlZlGyDc_Zt44Np56ATuWZ8e4dV8jJpSTrPmcDQ=s64",
      "userId": "01218923895066088452"
     },
     "user_tz": 0
    },
    "id": "LCt4Y59NAGx1"
   },
   "outputs": [],
   "source": [
    "import numpy as np\n",
    "from sklearn.datasets import load_iris\n",
    "import pandas as pd"
   ]
  },
  {
   "cell_type": "markdown",
   "metadata": {
    "id": "fqykdwDXAMMk"
   },
   "source": [
    "**The data is load and shown**"
   ]
  },
  {
   "cell_type": "code",
   "execution_count": 4,
   "metadata": {
    "colab": {
     "base_uri": "https://localhost:8080/"
    },
    "executionInfo": {
     "elapsed": 1429,
     "status": "ok",
     "timestamp": 1613766960188,
     "user": {
      "displayName": "Alhaji Fortune",
      "photoUrl": "https://lh3.googleusercontent.com/a-/AOh14GiRAlZlGyDc_Zt44Np56ATuWZ8e4dV8jJpSTrPmcDQ=s64",
      "userId": "01218923895066088452"
     },
     "user_tz": 0
    },
    "id": "UMui0VbwAR_O",
    "outputId": "6652105b-330a-42d2-cad8-b2312685e193"
   },
   "outputs": [
    {
     "data": {
      "text/plain": [
       "{'DESCR': '.. _iris_dataset:\\n\\nIris plants dataset\\n--------------------\\n\\n**Data Set Characteristics:**\\n\\n    :Number of Instances: 150 (50 in each of three classes)\\n    :Number of Attributes: 4 numeric, predictive attributes and the class\\n    :Attribute Information:\\n        - sepal length in cm\\n        - sepal width in cm\\n        - petal length in cm\\n        - petal width in cm\\n        - class:\\n                - Iris-Setosa\\n                - Iris-Versicolour\\n                - Iris-Virginica\\n                \\n    :Summary Statistics:\\n\\n    ============== ==== ==== ======= ===== ====================\\n                    Min  Max   Mean    SD   Class Correlation\\n    ============== ==== ==== ======= ===== ====================\\n    sepal length:   4.3  7.9   5.84   0.83    0.7826\\n    sepal width:    2.0  4.4   3.05   0.43   -0.4194\\n    petal length:   1.0  6.9   3.76   1.76    0.9490  (high!)\\n    petal width:    0.1  2.5   1.20   0.76    0.9565  (high!)\\n    ============== ==== ==== ======= ===== ====================\\n\\n    :Missing Attribute Values: None\\n    :Class Distribution: 33.3% for each of 3 classes.\\n    :Creator: R.A. Fisher\\n    :Donor: Michael Marshall (MARSHALL%PLU@io.arc.nasa.gov)\\n    :Date: July, 1988\\n\\nThe famous Iris database, first used by Sir R.A. Fisher. The dataset is taken\\nfrom Fisher\\'s paper. Note that it\\'s the same as in R, but not as in the UCI\\nMachine Learning Repository, which has two wrong data points.\\n\\nThis is perhaps the best known database to be found in the\\npattern recognition literature.  Fisher\\'s paper is a classic in the field and\\nis referenced frequently to this day.  (See Duda & Hart, for example.)  The\\ndata set contains 3 classes of 50 instances each, where each class refers to a\\ntype of iris plant.  One class is linearly separable from the other 2; the\\nlatter are NOT linearly separable from each other.\\n\\n.. topic:: References\\n\\n   - Fisher, R.A. \"The use of multiple measurements in taxonomic problems\"\\n     Annual Eugenics, 7, Part II, 179-188 (1936); also in \"Contributions to\\n     Mathematical Statistics\" (John Wiley, NY, 1950).\\n   - Duda, R.O., & Hart, P.E. (1973) Pattern Classification and Scene Analysis.\\n     (Q327.D83) John Wiley & Sons.  ISBN 0-471-22361-1.  See page 218.\\n   - Dasarathy, B.V. (1980) \"Nosing Around the Neighborhood: A New System\\n     Structure and Classification Rule for Recognition in Partially Exposed\\n     Environments\".  IEEE Transactions on Pattern Analysis and Machine\\n     Intelligence, Vol. PAMI-2, No. 1, 67-71.\\n   - Gates, G.W. (1972) \"The Reduced Nearest Neighbor Rule\".  IEEE Transactions\\n     on Information Theory, May 1972, 431-433.\\n   - See also: 1988 MLC Proceedings, 54-64.  Cheeseman et al\"s AUTOCLASS II\\n     conceptual clustering system finds 3 classes in the data.\\n   - Many, many more ...',\n",
       " 'data': array([[5.1, 3.5, 1.4, 0.2],\n",
       "        [4.9, 3. , 1.4, 0.2],\n",
       "        [4.7, 3.2, 1.3, 0.2],\n",
       "        [4.6, 3.1, 1.5, 0.2],\n",
       "        [5. , 3.6, 1.4, 0.2],\n",
       "        [5.4, 3.9, 1.7, 0.4],\n",
       "        [4.6, 3.4, 1.4, 0.3],\n",
       "        [5. , 3.4, 1.5, 0.2],\n",
       "        [4.4, 2.9, 1.4, 0.2],\n",
       "        [4.9, 3.1, 1.5, 0.1],\n",
       "        [5.4, 3.7, 1.5, 0.2],\n",
       "        [4.8, 3.4, 1.6, 0.2],\n",
       "        [4.8, 3. , 1.4, 0.1],\n",
       "        [4.3, 3. , 1.1, 0.1],\n",
       "        [5.8, 4. , 1.2, 0.2],\n",
       "        [5.7, 4.4, 1.5, 0.4],\n",
       "        [5.4, 3.9, 1.3, 0.4],\n",
       "        [5.1, 3.5, 1.4, 0.3],\n",
       "        [5.7, 3.8, 1.7, 0.3],\n",
       "        [5.1, 3.8, 1.5, 0.3],\n",
       "        [5.4, 3.4, 1.7, 0.2],\n",
       "        [5.1, 3.7, 1.5, 0.4],\n",
       "        [4.6, 3.6, 1. , 0.2],\n",
       "        [5.1, 3.3, 1.7, 0.5],\n",
       "        [4.8, 3.4, 1.9, 0.2],\n",
       "        [5. , 3. , 1.6, 0.2],\n",
       "        [5. , 3.4, 1.6, 0.4],\n",
       "        [5.2, 3.5, 1.5, 0.2],\n",
       "        [5.2, 3.4, 1.4, 0.2],\n",
       "        [4.7, 3.2, 1.6, 0.2],\n",
       "        [4.8, 3.1, 1.6, 0.2],\n",
       "        [5.4, 3.4, 1.5, 0.4],\n",
       "        [5.2, 4.1, 1.5, 0.1],\n",
       "        [5.5, 4.2, 1.4, 0.2],\n",
       "        [4.9, 3.1, 1.5, 0.2],\n",
       "        [5. , 3.2, 1.2, 0.2],\n",
       "        [5.5, 3.5, 1.3, 0.2],\n",
       "        [4.9, 3.6, 1.4, 0.1],\n",
       "        [4.4, 3. , 1.3, 0.2],\n",
       "        [5.1, 3.4, 1.5, 0.2],\n",
       "        [5. , 3.5, 1.3, 0.3],\n",
       "        [4.5, 2.3, 1.3, 0.3],\n",
       "        [4.4, 3.2, 1.3, 0.2],\n",
       "        [5. , 3.5, 1.6, 0.6],\n",
       "        [5.1, 3.8, 1.9, 0.4],\n",
       "        [4.8, 3. , 1.4, 0.3],\n",
       "        [5.1, 3.8, 1.6, 0.2],\n",
       "        [4.6, 3.2, 1.4, 0.2],\n",
       "        [5.3, 3.7, 1.5, 0.2],\n",
       "        [5. , 3.3, 1.4, 0.2],\n",
       "        [7. , 3.2, 4.7, 1.4],\n",
       "        [6.4, 3.2, 4.5, 1.5],\n",
       "        [6.9, 3.1, 4.9, 1.5],\n",
       "        [5.5, 2.3, 4. , 1.3],\n",
       "        [6.5, 2.8, 4.6, 1.5],\n",
       "        [5.7, 2.8, 4.5, 1.3],\n",
       "        [6.3, 3.3, 4.7, 1.6],\n",
       "        [4.9, 2.4, 3.3, 1. ],\n",
       "        [6.6, 2.9, 4.6, 1.3],\n",
       "        [5.2, 2.7, 3.9, 1.4],\n",
       "        [5. , 2. , 3.5, 1. ],\n",
       "        [5.9, 3. , 4.2, 1.5],\n",
       "        [6. , 2.2, 4. , 1. ],\n",
       "        [6.1, 2.9, 4.7, 1.4],\n",
       "        [5.6, 2.9, 3.6, 1.3],\n",
       "        [6.7, 3.1, 4.4, 1.4],\n",
       "        [5.6, 3. , 4.5, 1.5],\n",
       "        [5.8, 2.7, 4.1, 1. ],\n",
       "        [6.2, 2.2, 4.5, 1.5],\n",
       "        [5.6, 2.5, 3.9, 1.1],\n",
       "        [5.9, 3.2, 4.8, 1.8],\n",
       "        [6.1, 2.8, 4. , 1.3],\n",
       "        [6.3, 2.5, 4.9, 1.5],\n",
       "        [6.1, 2.8, 4.7, 1.2],\n",
       "        [6.4, 2.9, 4.3, 1.3],\n",
       "        [6.6, 3. , 4.4, 1.4],\n",
       "        [6.8, 2.8, 4.8, 1.4],\n",
       "        [6.7, 3. , 5. , 1.7],\n",
       "        [6. , 2.9, 4.5, 1.5],\n",
       "        [5.7, 2.6, 3.5, 1. ],\n",
       "        [5.5, 2.4, 3.8, 1.1],\n",
       "        [5.5, 2.4, 3.7, 1. ],\n",
       "        [5.8, 2.7, 3.9, 1.2],\n",
       "        [6. , 2.7, 5.1, 1.6],\n",
       "        [5.4, 3. , 4.5, 1.5],\n",
       "        [6. , 3.4, 4.5, 1.6],\n",
       "        [6.7, 3.1, 4.7, 1.5],\n",
       "        [6.3, 2.3, 4.4, 1.3],\n",
       "        [5.6, 3. , 4.1, 1.3],\n",
       "        [5.5, 2.5, 4. , 1.3],\n",
       "        [5.5, 2.6, 4.4, 1.2],\n",
       "        [6.1, 3. , 4.6, 1.4],\n",
       "        [5.8, 2.6, 4. , 1.2],\n",
       "        [5. , 2.3, 3.3, 1. ],\n",
       "        [5.6, 2.7, 4.2, 1.3],\n",
       "        [5.7, 3. , 4.2, 1.2],\n",
       "        [5.7, 2.9, 4.2, 1.3],\n",
       "        [6.2, 2.9, 4.3, 1.3],\n",
       "        [5.1, 2.5, 3. , 1.1],\n",
       "        [5.7, 2.8, 4.1, 1.3],\n",
       "        [6.3, 3.3, 6. , 2.5],\n",
       "        [5.8, 2.7, 5.1, 1.9],\n",
       "        [7.1, 3. , 5.9, 2.1],\n",
       "        [6.3, 2.9, 5.6, 1.8],\n",
       "        [6.5, 3. , 5.8, 2.2],\n",
       "        [7.6, 3. , 6.6, 2.1],\n",
       "        [4.9, 2.5, 4.5, 1.7],\n",
       "        [7.3, 2.9, 6.3, 1.8],\n",
       "        [6.7, 2.5, 5.8, 1.8],\n",
       "        [7.2, 3.6, 6.1, 2.5],\n",
       "        [6.5, 3.2, 5.1, 2. ],\n",
       "        [6.4, 2.7, 5.3, 1.9],\n",
       "        [6.8, 3. , 5.5, 2.1],\n",
       "        [5.7, 2.5, 5. , 2. ],\n",
       "        [5.8, 2.8, 5.1, 2.4],\n",
       "        [6.4, 3.2, 5.3, 2.3],\n",
       "        [6.5, 3. , 5.5, 1.8],\n",
       "        [7.7, 3.8, 6.7, 2.2],\n",
       "        [7.7, 2.6, 6.9, 2.3],\n",
       "        [6. , 2.2, 5. , 1.5],\n",
       "        [6.9, 3.2, 5.7, 2.3],\n",
       "        [5.6, 2.8, 4.9, 2. ],\n",
       "        [7.7, 2.8, 6.7, 2. ],\n",
       "        [6.3, 2.7, 4.9, 1.8],\n",
       "        [6.7, 3.3, 5.7, 2.1],\n",
       "        [7.2, 3.2, 6. , 1.8],\n",
       "        [6.2, 2.8, 4.8, 1.8],\n",
       "        [6.1, 3. , 4.9, 1.8],\n",
       "        [6.4, 2.8, 5.6, 2.1],\n",
       "        [7.2, 3. , 5.8, 1.6],\n",
       "        [7.4, 2.8, 6.1, 1.9],\n",
       "        [7.9, 3.8, 6.4, 2. ],\n",
       "        [6.4, 2.8, 5.6, 2.2],\n",
       "        [6.3, 2.8, 5.1, 1.5],\n",
       "        [6.1, 2.6, 5.6, 1.4],\n",
       "        [7.7, 3. , 6.1, 2.3],\n",
       "        [6.3, 3.4, 5.6, 2.4],\n",
       "        [6.4, 3.1, 5.5, 1.8],\n",
       "        [6. , 3. , 4.8, 1.8],\n",
       "        [6.9, 3.1, 5.4, 2.1],\n",
       "        [6.7, 3.1, 5.6, 2.4],\n",
       "        [6.9, 3.1, 5.1, 2.3],\n",
       "        [5.8, 2.7, 5.1, 1.9],\n",
       "        [6.8, 3.2, 5.9, 2.3],\n",
       "        [6.7, 3.3, 5.7, 2.5],\n",
       "        [6.7, 3. , 5.2, 2.3],\n",
       "        [6.3, 2.5, 5. , 1.9],\n",
       "        [6.5, 3. , 5.2, 2. ],\n",
       "        [6.2, 3.4, 5.4, 2.3],\n",
       "        [5.9, 3. , 5.1, 1.8]]),\n",
       " 'feature_names': ['sepal length (cm)',\n",
       "  'sepal width (cm)',\n",
       "  'petal length (cm)',\n",
       "  'petal width (cm)'],\n",
       " 'filename': '/usr/local/lib/python3.6/dist-packages/sklearn/datasets/data/iris.csv',\n",
       " 'target': array([0, 0, 0, 0, 0, 0, 0, 0, 0, 0, 0, 0, 0, 0, 0, 0, 0, 0, 0, 0, 0, 0,\n",
       "        0, 0, 0, 0, 0, 0, 0, 0, 0, 0, 0, 0, 0, 0, 0, 0, 0, 0, 0, 0, 0, 0,\n",
       "        0, 0, 0, 0, 0, 0, 1, 1, 1, 1, 1, 1, 1, 1, 1, 1, 1, 1, 1, 1, 1, 1,\n",
       "        1, 1, 1, 1, 1, 1, 1, 1, 1, 1, 1, 1, 1, 1, 1, 1, 1, 1, 1, 1, 1, 1,\n",
       "        1, 1, 1, 1, 1, 1, 1, 1, 1, 1, 1, 1, 2, 2, 2, 2, 2, 2, 2, 2, 2, 2,\n",
       "        2, 2, 2, 2, 2, 2, 2, 2, 2, 2, 2, 2, 2, 2, 2, 2, 2, 2, 2, 2, 2, 2,\n",
       "        2, 2, 2, 2, 2, 2, 2, 2, 2, 2, 2, 2, 2, 2, 2, 2, 2, 2]),\n",
       " 'target_names': array(['setosa', 'versicolor', 'virginica'], dtype='<U10')}"
      ]
     },
     "execution_count": 4,
     "metadata": {
      "tags": []
     },
     "output_type": "execute_result"
    }
   ],
   "source": [
    "iris_data = load_iris()\n",
    "iris_data"
   ]
  },
  {
   "cell_type": "markdown",
   "metadata": {
    "id": "kd0cube4Aayh"
   },
   "source": [
    "* **We extract virgicolor and virginica, and sepal_length and petal_length**"
   ]
  },
  {
   "cell_type": "code",
   "execution_count": 5,
   "metadata": {
    "colab": {
     "base_uri": "https://localhost:8080/",
     "height": 204
    },
    "executionInfo": {
     "elapsed": 967,
     "status": "ok",
     "timestamp": 1613767793346,
     "user": {
      "displayName": "Alhaji Fortune",
      "photoUrl": "https://lh3.googleusercontent.com/a-/AOh14GiRAlZlGyDc_Zt44Np56ATuWZ8e4dV8jJpSTrPmcDQ=s64",
      "userId": "01218923895066088452"
     },
     "user_tz": 0
    },
    "id": "Pf_uU3dJAgLE",
    "outputId": "18503e0d-5c62-4cac-d895-b022bfd02f77"
   },
   "outputs": [
    {
     "data": {
      "text/html": [
       "<div>\n",
       "<style scoped>\n",
       "    .dataframe tbody tr th:only-of-type {\n",
       "        vertical-align: middle;\n",
       "    }\n",
       "\n",
       "    .dataframe tbody tr th {\n",
       "        vertical-align: top;\n",
       "    }\n",
       "\n",
       "    .dataframe thead th {\n",
       "        text-align: right;\n",
       "    }\n",
       "</style>\n",
       "<table border=\"1\" class=\"dataframe\">\n",
       "  <thead>\n",
       "    <tr style=\"text-align: right;\">\n",
       "      <th></th>\n",
       "      <th>sepal_length</th>\n",
       "      <th>petal_length</th>\n",
       "      <th>variety</th>\n",
       "    </tr>\n",
       "  </thead>\n",
       "  <tbody>\n",
       "    <tr>\n",
       "      <th>0</th>\n",
       "      <td>7.0</td>\n",
       "      <td>4.7</td>\n",
       "      <td>1</td>\n",
       "    </tr>\n",
       "    <tr>\n",
       "      <th>1</th>\n",
       "      <td>6.4</td>\n",
       "      <td>4.5</td>\n",
       "      <td>1</td>\n",
       "    </tr>\n",
       "    <tr>\n",
       "      <th>2</th>\n",
       "      <td>6.9</td>\n",
       "      <td>4.9</td>\n",
       "      <td>1</td>\n",
       "    </tr>\n",
       "    <tr>\n",
       "      <th>3</th>\n",
       "      <td>5.5</td>\n",
       "      <td>4.0</td>\n",
       "      <td>1</td>\n",
       "    </tr>\n",
       "    <tr>\n",
       "      <th>4</th>\n",
       "      <td>6.5</td>\n",
       "      <td>4.6</td>\n",
       "      <td>1</td>\n",
       "    </tr>\n",
       "  </tbody>\n",
       "</table>\n",
       "</div>"
      ],
      "text/plain": [
       "   sepal_length  petal_length  variety\n",
       "0           7.0           4.7        1\n",
       "1           6.4           4.5        1\n",
       "2           6.9           4.9        1\n",
       "3           5.5           4.0        1\n",
       "4           6.5           4.6        1"
      ]
     },
     "execution_count": 5,
     "metadata": {
      "tags": []
     },
     "output_type": "execute_result"
    }
   ],
   "source": [
    "X = pd.DataFrame(iris_data.data,columns=[\"sepal_length\",\"sepal_width\",\"petal_length\",\"petal_width\"]) \n",
    "y = pd.DataFrame(iris_data.target,columns=[\"variety\"])\n",
    "\n",
    "extracted_features = X[[\"sepal_length\",\"petal_length\"]] \n",
    "df = pd.concat([extracted_features,y], axis=1) \n",
    "subset = df.loc[(df['variety'] == 1)|(df['variety'] == 2)].reset_index(drop=True) \n",
    "subset.head()"
   ]
  },
  {
   "cell_type": "markdown",
   "metadata": {
    "id": "PEhk_HCtAm2u"
   },
   "source": [
    "# **[Problem 2] Data analysis**"
   ]
  },
  {
   "cell_type": "markdown",
   "metadata": {
    "id": "521lWmEuApXF"
   },
   "source": [
    "* **A scatter plot of the extracted data**"
   ]
  },
  {
   "cell_type": "code",
   "execution_count": 6,
   "metadata": {
    "colab": {
     "base_uri": "https://localhost:8080/",
     "height": 405
    },
    "executionInfo": {
     "elapsed": 1521,
     "status": "ok",
     "timestamp": 1613767799500,
     "user": {
      "displayName": "Alhaji Fortune",
      "photoUrl": "https://lh3.googleusercontent.com/a-/AOh14GiRAlZlGyDc_Zt44Np56ATuWZ8e4dV8jJpSTrPmcDQ=s64",
      "userId": "01218923895066088452"
     },
     "user_tz": 0
    },
    "id": "ULTh3l4WAtwi",
    "outputId": "a35aa52a-da23-4dd9-b7a6-8fcbe72ef073"
   },
   "outputs": [
    {
     "name": "stderr",
     "output_type": "stream",
     "text": [
      "/usr/local/lib/python3.6/dist-packages/ipykernel_launcher.py:11: MatplotlibDeprecationWarning: Adding an axes using the same arguments as a previous axes currently reuses the earlier instance.  In a future version, a new instance will always be created and returned.  Meanwhile, this warning can be suppressed, and the future behavior ensured, by passing a unique label to each axes instance.\n",
      "  # This is added back by InteractiveShellApp.init_path()\n"
     ]
    },
    {
     "data": {
      "image/png": "[encoded data removed]",
      "text/plain": [
       "<Figure size 1080x360 with 2 Axes>"
      ]
     },
     "metadata": {
      "needs_background": "light",
      "tags": []
     },
     "output_type": "display_data"
    }
   ],
   "source": [
    "import numpy as np\n",
    "import matplotlib.pyplot as plt\n",
    "\n",
    "figure = plt.figure(figsize=(15, 5))\n",
    "variety_names = ['versicolor', 'virginica']\n",
    "x_features = ['sepal_length', 'petal_length']\n",
    "colors = ['orange','green']\n",
    "\n",
    "for x_feature in range(len(x_features)):\n",
    "    for a in range(len(variety_names)):\n",
    "        ax1 = figure.add_subplot(1,2,x_feature+1)\n",
    "        ax1.scatter(df[x_features[x_feature]],df['variety'],color=colors[a], label=variety_names[a], alpha=0.5)  \n",
    "    ax1.legend()\n",
    "    ax1.set_title(x_features[x_feature])\n",
    "    ax1.set_xlabel(x_features[x_feature])\n",
    "    ax1.set_ylabel('variety')"
   ]
  },
  {
   "cell_type": "markdown",
   "metadata": {
    "id": "41c_8dUNAzYJ"
   },
   "source": [
    "* **A box plot of the extracted data**"
   ]
  },
  {
   "cell_type": "code",
   "execution_count": 7,
   "metadata": {
    "colab": {
     "base_uri": "https://localhost:8080/",
     "height": 336
    },
    "executionInfo": {
     "elapsed": 869,
     "status": "ok",
     "timestamp": 1613767811847,
     "user": {
      "displayName": "Alhaji Fortune",
      "photoUrl": "https://lh3.googleusercontent.com/a-/AOh14GiRAlZlGyDc_Zt44Np56ATuWZ8e4dV8jJpSTrPmcDQ=s64",
      "userId": "01218923895066088452"
     },
     "user_tz": 0
    },
    "id": "h3xZkA7HA3A7",
    "outputId": "0565f5b0-9189-4447-cd68-07a08de63826"
   },
   "outputs": [
    {
     "data": {
      "image/png": "[encoded data removed]",
      "text/plain": [
       "<Figure size 1080x360 with 2 Axes>"
      ]
     },
     "metadata": {
      "needs_background": "light",
      "tags": []
     },
     "output_type": "display_data"
    }
   ],
   "source": [
    "fig = plt.figure(figsize=(15,5))\n",
    "\n",
    "import seaborn as sns\n",
    "\n",
    "for feature in range(len(x_features)):\n",
    "    x = []\n",
    "    for i in range(len(variety_names)):\n",
    "        target_variety = df.loc[df['variety']==i+1]\n",
    "        x.append(list(target_variety[x_features[feature]]))\n",
    "    ax2 = fig.add_subplot(1, 2, feature+1)\n",
    "    ax2.boxplot(x)\n",
    "    ax2.set_xticks([1, 2])\n",
    "    ax2.set_xticklabels(variety_names)\n",
    "    ax2.set_title(x_features[feature])"
   ]
  },
  {
   "cell_type": "markdown",
   "metadata": {
    "id": "_XsbevDdA8Yt"
   },
   "source": [
    "* **A violin plot of the extracted data**"
   ]
  },
  {
   "cell_type": "code",
   "execution_count": 8,
   "metadata": {
    "colab": {
     "base_uri": "https://localhost:8080/",
     "height": 336
    },
    "executionInfo": {
     "elapsed": 960,
     "status": "ok",
     "timestamp": 1613767816776,
     "user": {
      "displayName": "Alhaji Fortune",
      "photoUrl": "https://lh3.googleusercontent.com/a-/AOh14GiRAlZlGyDc_Zt44Np56ATuWZ8e4dV8jJpSTrPmcDQ=s64",
      "userId": "01218923895066088452"
     },
     "user_tz": 0
    },
    "id": "rcmYpIgkA_EV",
    "outputId": "56534e83-cc9d-4f62-f1ed-f368b0be0624"
   },
   "outputs": [
    {
     "data": {
      "image/png": "[encoded data removed]",
      "text/plain": [
       "<Figure size 1080x360 with 2 Axes>"
      ]
     },
     "metadata": {
      "needs_background": "light",
      "tags": []
     },
     "output_type": "display_data"
    }
   ],
   "source": [
    "fig = plt.figure(figsize=(15,5))\n",
    "for feature in range(len(x_features)):\n",
    "    x = []\n",
    "    for i in range(len(variety_names)):\n",
    "        target_variety = df.loc[df['variety']==i+1]\n",
    "        x.append(list(target_variety[x_features[feature]]))\n",
    "    ax2 = fig.add_subplot(1, 2, feature+1)\n",
    "    ax2.violinplot(x)\n",
    "    ax2.set_xticks([1, 2])\n",
    "    ax2.set_xticklabels(variety_names)\n",
    "    ax2.set_title(x_features[feature])"
   ]
  },
  {
   "cell_type": "markdown",
   "metadata": {
    "id": "apbkPsHLBDG1"
   },
   "source": [
    "# **[Problem 3] Division of preprocessing/training data and verification data**"
   ]
  },
  {
   "cell_type": "markdown",
   "metadata": {
    "id": "1KgHIGpJBFV-"
   },
   "source": [
    "* we will split the training data and the validation data.\n",
    "* The feature (explanatory variable) is stored in X and the correct answer (objective variable) is stored in an ndarray called y"
   ]
  },
  {
   "cell_type": "code",
   "execution_count": 10,
   "metadata": {
    "executionInfo": {
     "elapsed": 945,
     "status": "ok",
     "timestamp": 1613767830286,
     "user": {
      "displayName": "Alhaji Fortune",
      "photoUrl": "https://lh3.googleusercontent.com/a-/AOh14GiRAlZlGyDc_Zt44Np56ATuWZ8e4dV8jJpSTrPmcDQ=s64",
      "userId": "01218923895066088452"
     },
     "user_tz": 0
    },
    "id": "2d4XhmHZBQhw"
   },
   "outputs": [],
   "source": [
    "import numpy as np\n",
    "from sklearn.model_selection import train_test_split\n",
    "\n",
    "X = np.array(subset.loc[:,[\"sepal_length\",\"petal_length\"]])\n",
    "y = np.array(subset[\"variety\"])\n",
    "\n",
    "X_train, X_test, y_train, y_test = train_test_split(X, y, test_size=0.25, random_state=42)"
   ]
  },
  {
   "cell_type": "markdown",
   "metadata": {
    "id": "OvADoPejBcRp"
   },
   "source": [
    "# **[Problem 4] Pretreatment/Standardization**"
   ]
  },
  {
   "cell_type": "code",
   "execution_count": 11,
   "metadata": {
    "executionInfo": {
     "elapsed": 929,
     "status": "ok",
     "timestamp": 1613767833279,
     "user": {
      "displayName": "Alhaji Fortune",
      "photoUrl": "https://lh3.googleusercontent.com/a-/AOh14GiRAlZlGyDc_Zt44Np56ATuWZ8e4dV8jJpSTrPmcDQ=s64",
      "userId": "01218923895066088452"
     },
     "user_tz": 0
    },
    "id": "mDxFFrnXBen0"
   },
   "outputs": [],
   "source": [
    "from sklearn.preprocessing import StandardScaler\n",
    "\n",
    "scaler = StandardScaler()\n",
    "scaler.fit(X_train)\n",
    "X_train_trans = scaler.transform(X_train)\n",
    "X_test_trans = scaler.transform(X_test)"
   ]
  },
  {
   "cell_type": "markdown",
   "metadata": {
    "id": "ZcPXVIM6BT1W"
   },
   "source": [
    "# **[Problem 5] Learning and estimation**"
   ]
  },
  {
   "cell_type": "code",
   "execution_count": 12,
   "metadata": {
    "colab": {
     "base_uri": "https://localhost:8080/"
    },
    "executionInfo": {
     "elapsed": 867,
     "status": "ok",
     "timestamp": 1613767837216,
     "user": {
      "displayName": "Alhaji Fortune",
      "photoUrl": "https://lh3.googleusercontent.com/a-/AOh14GiRAlZlGyDc_Zt44Np56ATuWZ8e4dV8jJpSTrPmcDQ=s64",
      "userId": "01218923895066088452"
     },
     "user_tz": 0
    },
    "id": "VWJZzWfZBiLX",
    "outputId": "9eb7ac04-2b3d-4d0b-d2c8-0a7bb4f4600a"
   },
   "outputs": [
    {
     "name": "stdout",
     "output_type": "stream",
     "text": [
      "pred3 =  [2 2 2 1 1 1 2 2 1 1 1 1 2 2 2 1 1 1 1 1 2 1 1 1 2]\n",
      "pred5 =  [2 2 2 1 1 1 1 2 1 1 1 1 1 2 2 1 1 1 1 1 2 1 1 1 2]\n",
      "pred1 =  [2 2 2 1 1 1 1 2 1 1 1 1 1 2 2 1 1 1 1 1 2 1 1 1 2]\n"
     ]
    }
   ],
   "source": [
    "from sklearn.neighbors import KNeighborsClassifier\n",
    "\n",
    "k_neigh_3 = KNeighborsClassifier(n_neighbors=3)\n",
    "k_neigh_3.fit(X_train_trans, y_train.ravel())\n",
    "pred_3 = k_neigh_3.predict(X_test_trans)\n",
    "print(\"pred3 = \", pred_3)\n",
    "\n",
    "k_neigh_5 = KNeighborsClassifier(n_neighbors=5)\n",
    "k_neigh_5.fit(X_train_trans, y_train.ravel())\n",
    "pred_5 = k_neigh_5.predict(X_test_trans)\n",
    "print(\"pred5 = \", pred_5)\n",
    "\n",
    "k_neigh_1 = KNeighborsClassifier(n_neighbors=1)\n",
    "k_neigh_1.fit(X_train_trans, y_train.ravel())\n",
    "pred_1 = k_neigh_1.predict(X_test_trans)\n",
    "print(\"pred1 = \", pred_5)"
   ]
  },
  {
   "cell_type": "markdown",
   "metadata": {
    "id": "OoGtz4DnBn7V"
   },
   "source": [
    "# **[Problem 6] Evaluation**"
   ]
  },
  {
   "cell_type": "code",
   "execution_count": 13,
   "metadata": {
    "colab": {
     "base_uri": "https://localhost:8080/"
    },
    "executionInfo": {
     "elapsed": 1762,
     "status": "ok",
     "timestamp": 1613767841892,
     "user": {
      "displayName": "Alhaji Fortune",
      "photoUrl": "https://lh3.googleusercontent.com/a-/AOh14GiRAlZlGyDc_Zt44Np56ATuWZ8e4dV8jJpSTrPmcDQ=s64",
      "userId": "01218923895066088452"
     },
     "user_tz": 0
    },
    "id": "jPiGB_PWBq41",
    "outputId": "d7dcb89d-d179-4f94-d826-07431ff21da1"
   },
   "outputs": [
    {
     "name": "stdout",
     "output_type": "stream",
     "text": [
      "predictions of  knn3\n",
      "accuracy = 0.8\n",
      "precision = [0.8 0.8]\n",
      "recall = [0.85714286 0.72727273]\n",
      "f1 score = [0.82758621 0.76190476]\n",
      "confusion matrix = [[12  2]\n",
      " [ 3  8]]\n",
      "-------------------------------------------------------------------------------------\n",
      "predictions of  knn5\n",
      "accuracy = 0.8\n",
      "precision = [0.76470588 0.875     ]\n",
      "recall = [0.92857143 0.63636364]\n",
      "f1 score = [0.83870968 0.73684211]\n",
      "confusion matrix = [[13  1]\n",
      " [ 4  7]]\n",
      "-------------------------------------------------------------------------------------\n",
      "predictions of  knn1\n",
      "accuracy = 0.8\n",
      "precision = [0.8 0.8]\n",
      "recall = [0.85714286 0.72727273]\n",
      "f1 score = [0.82758621 0.76190476]\n",
      "confusion matrix = [[12  2]\n",
      " [ 3  8]]\n",
      "-------------------------------------------------------------------------------------\n"
     ]
    }
   ],
   "source": [
    "from sklearn.metrics import accuracy_score,precision_score,recall_score,f1_score,confusion_matrix\n",
    "\n",
    "predictions = [pred_3, pred_5, pred_1]\n",
    "keys = [\"knn3\",\"knn5\",\"knn1\"]\n",
    "\n",
    "for a,prediction in enumerate(predictions,0):\n",
    "    print(\"predictions of \", keys[a])\n",
    "    print(\"accuracy =\", accuracy_score(y_true=y_test, y_pred=prediction))\n",
    "    print(\"precision =\", precision_score(y_true=y_test, y_pred=prediction,average=None))    \n",
    "    print(\"recall =\", recall_score(y_true=y_test, y_pred=prediction,average=None))  \n",
    "    print(\"f1 score =\", f1_score(y_true=y_test, y_pred=prediction,average=None)) \n",
    "    print(\"confusion matrix =\", confusion_matrix(y_true=y_test, y_pred=prediction)) \n",
    "    print(\"-------------------------------------------------------------------------------------\")"
   ]
  },
  {
   "cell_type": "markdown",
   "metadata": {
    "id": "erZtAjDPB0Tt"
   },
   "source": [
    "**Explanations**\n",
    "\n",
    "* **Accuracy:** Accuracy is the most intuitive performance measure and it is simply a ratio of correctly predicted observation to the total observations\n",
    "\n",
    "* **Precision:** Precision is the ratio of correctly predicted positive observations to the total predicted positive observations\n",
    "\n",
    "* **Recall:** Recall is the ratio of correctly predicted positive observations to the all observations in actual class\n",
    "\n",
    "* **F1 score:** F1 Score is the weighted average of Precision and Recall. Therefore, this score takes both false positives and false negatives into account"
   ]
  },
  {
   "cell_type": "markdown",
   "metadata": {
    "id": "KLoav-WaB4NU"
   },
   "source": [
    "# **[Problem 7] Visualization**"
   ]
  },
  {
   "cell_type": "code",
   "execution_count": 14,
   "metadata": {
    "colab": {
     "base_uri": "https://localhost:8080/",
     "height": 851
    },
    "executionInfo": {
     "elapsed": 18230,
     "status": "ok",
     "timestamp": 1613767863238,
     "user": {
      "displayName": "Alhaji Fortune",
      "photoUrl": "https://lh3.googleusercontent.com/a-/AOh14GiRAlZlGyDc_Zt44Np56ATuWZ8e4dV8jJpSTrPmcDQ=s64",
      "userId": "01218923895066088452"
     },
     "user_tz": 0
    },
    "id": "pt-La11cCSNV",
    "outputId": "0502e0e4-1406-4531-89db-07510d6e03fe"
   },
   "outputs": [
    {
     "data": {
      "image/png": "[encoded data removed]",
      "text/plain": [
       "<Figure size 432x288 with 1 Axes>"
      ]
     },
     "metadata": {
      "needs_background": "light",
      "tags": []
     },
     "output_type": "display_data"
    },
    {
     "data": {
      "image/png": "[encoded data removed]",
      "text/plain": [
       "<Figure size 432x288 with 1 Axes>"
      ]
     },
     "metadata": {
      "needs_background": "light",
      "tags": []
     },
     "output_type": "display_data"
    },
    {
     "data": {
      "image/png": "[encoded data removed]",
      "text/plain": [
       "<Figure size 432x288 with 1 Axes>"
      ]
     },
     "metadata": {
      "needs_background": "light",
      "tags": []
     },
     "output_type": "display_data"
    }
   ],
   "source": [
    "import matplotlib.pyplot as plt\n",
    "from matplotlib.colors import ListedColormap\n",
    "import matplotlib.patches as mpatches\n",
    "def decision_region(X, y, model, step=0.01, title='decision region', xlabel='xlabel', ylabel='ylabel', target_names=['versicolor', 'virginica']):\n",
    "    # setting\n",
    "    scatter_color = ['red', 'blue']\n",
    "    contourf_color = ['pink', 'skyblue']\n",
    "    n_class = 2\n",
    "    # pred\n",
    "    mesh_f0, mesh_f1  = np.meshgrid(np.arange(np.min(X[:,0])-0.5, np.max(X[:,0])+0.5, step), np.arange(np.min(X[:,1])-0.5, np.max(X[:,1])+0.5, step))\n",
    "    mesh = np.c_[np.ravel(mesh_f0),np.ravel(mesh_f1)]\n",
    "    y_pred = model.predict(mesh).reshape(mesh_f0.shape)\n",
    "    # plot\n",
    "    plt.title(title)\n",
    "    plt.xlabel(xlabel)\n",
    "    plt.ylabel(ylabel)\n",
    "    plt.contourf(mesh_f0, mesh_f1, y_pred, n_class-1, cmap=ListedColormap(contourf_color))\n",
    "    plt.contour(mesh_f0, mesh_f1, y_pred, n_class-1, colors='y', linewidths=3, alpha=0.5)\n",
    "    for i, target in enumerate(set(y)):\n",
    "        plt.scatter(X[y==target][:, 0], X[y==target][:, 1], s=80, color=scatter_color[i], label=target_names[i], marker='o')\n",
    "    patches = [mpatches.Patch(color=scatter_color[i], label=target_names[i]) for i in range(n_class)]\n",
    "    plt.legend(handles=patches)\n",
    "    plt.legend()\n",
    "    plt.show()\n",
    "\n",
    "models = [k_neigh_3, k_neigh_5, k_neigh_1]\n",
    "for a,model in enumerate(models, 1):\n",
    "    decision_region(X_test_trans, y_test, model)"
   ]
  },
  {
   "cell_type": "markdown",
   "metadata": {
    "id": "r5ReZ_DcCVW9"
   },
   "source": [
    "# **[Problem 8] Learning by other methods**"
   ]
  },
  {
   "cell_type": "markdown",
   "metadata": {
    "id": "8AKo4jdSCdoz"
   },
   "source": [
    "**Here we estimate and evaluate**"
   ]
  },
  {
   "cell_type": "code",
   "execution_count": 15,
   "metadata": {
    "executionInfo": {
     "elapsed": 6053,
     "status": "ok",
     "timestamp": 1613767880635,
     "user": {
      "displayName": "Alhaji Fortune",
      "photoUrl": "https://lh3.googleusercontent.com/a-/AOh14GiRAlZlGyDc_Zt44Np56ATuWZ8e4dV8jJpSTrPmcDQ=s64",
      "userId": "01218923895066088452"
     },
     "user_tz": 0
    },
    "id": "K5gqeiGcCoQM"
   },
   "outputs": [],
   "source": [
    "def display_outputs(title,pred,model,std):\n",
    "    print(title)\n",
    "    print(\"pred = \", pred)\n",
    "    print(\"accuracy =\", accuracy_score(y_true=y_test, y_pred=pred))\n",
    "    print(\"precision =\", precision_score(y_true=y_test, y_pred=pred,average=None))    \n",
    "    print(\"recall =\", recall_score(y_true=y_test, y_pred=pred,average=None))  \n",
    "    print(\"f1 score =\", f1_score(y_true=y_test, y_pred=pred,average=None)) \n",
    "    print(\"confusion matrix =\", confusion_matrix(y_true=y_test, y_pred=pred)) \n",
    "    if (std == True):\n",
    "        decision_region(X_test_trans, y_test, model)\n",
    "    else:\n",
    "        decision_region(X_test, y_test, model)\n",
    "    print(\"--------------------------------------------------------\")"
   ]
  },
  {
   "cell_type": "markdown",
   "metadata": {
    "id": "M4BiAZCCCqs5"
   },
   "source": [
    "**Here We visualize all the methods**"
   ]
  },
  {
   "cell_type": "code",
   "execution_count": null,
   "metadata": {
    "id": "jrgPo8nJCuch"
   },
   "outputs": [],
   "source": [
    "#for LogisticRegression\n",
    "from sklearn.linear_model import LogisticRegression\n",
    "lR_fit = LogisticRegression(random_state=0).fit(X_train_trans, y_train)\n",
    "lR_predict = lR_fit.predict(X_test_trans)\n",
    "display_outputs('Logical Regression',lR_predict,lR_fit,std=True)\n",
    "\n",
    "#for SVM\n",
    "from sklearn.pipeline import make_pipeline\n",
    "from sklearn.preprocessing import StandardScaler\n",
    "from sklearn.svm import SVC\n",
    "clf = make_pipeline(StandardScaler(), SVC(gamma='auto'))\n",
    "clf.fit(X_train_trans, y_train)\n",
    "clf_pred = clf.predict(X_test_trans)\n",
    "display_outputs('SVM',clf_pred,clf,std=True)\n",
    "\n",
    "#for Decision tree\n",
    "from sklearn.tree import DecisionTreeClassifier\n",
    "dTC = DecisionTreeClassifier(random_state=0)\n",
    "dTC.fit(X_train_trans, y_train)\n",
    "dTC_pred = dTC.predict(X_test_trans)\n",
    "display_outputs('Decision tree',dTC_pred,dTC,std=True)\n",
    "\n",
    "#for Random forest\n",
    "from sklearn.ensemble import RandomForestClassifier\n",
    "rFC = RandomForestClassifier(max_depth=2, random_state=0)\n",
    "rFC.fit(X_train_trans, y_train)\n",
    "rFC_pred = rFC.predict(X_test_trans)\n",
    "display_outputs('Random Forest',rFC_pred,rFC,std=True)"
   ]
  },
  {
   "cell_type": "markdown",
   "metadata": {
    "id": "kJkFOVa0C09Z"
   },
   "source": [
    "**Comparison:** When we look at all method we will see that they are all similar in the prediction results, but SVM and logical regression has the highest precision results which to me makes their results more precise"
   ]
  },
  {
   "cell_type": "markdown",
   "metadata": {
    "id": "_TAtOL7JC8Cd"
   },
   "source": [
    "# **[Problem 9] (Advanced task) Comparison with and without standardization**"
   ]
  },
  {
   "cell_type": "code",
   "execution_count": null,
   "metadata": {
    "id": "rAU1WeDxDA4q"
   },
   "outputs": [],
   "source": [
    "# knn\n",
    "k_neigh_3_2 = KNeighborsClassifier(n_neighbors=3)\n",
    "k_neigh_3_2.fit(X_train, y_train.ravel())\n",
    "pred_3_2 = k_neigh_3_2.predict(X_test)\n",
    "display_outputs('Knn',pred_3_2,k_neigh_3_2,std=False)\n",
    "\n",
    "# LogisticRegression\n",
    "from sklearn.linear_model import LogisticRegression\n",
    "lR_fit = LogisticRegression(random_state=0).fit(X_train, y_train)\n",
    "lR_predict = lR_fit.predict(X_test)\n",
    "display_outputs('Logistic regression',lR_predict,lR_fit,std=False)\n",
    "\n",
    "# SVM\n",
    "from sklearn.pipeline import make_pipeline\n",
    "from sklearn.preprocessing import StandardScaler\n",
    "from sklearn.svm import SVC\n",
    "clf = make_pipeline(StandardScaler(), SVC(gamma='auto'))\n",
    "clf.fit(X_train, y_train)\n",
    "clf_pred = clf.predict(X_test)\n",
    "display_outputs('SVM',clf_pred,clf,std=False)\n",
    "\n",
    "# Decision tree\n",
    "from sklearn.tree import DecisionTreeClassifier\n",
    "dTC = DecisionTreeClassifier(random_state=0)\n",
    "dTC.fit(X_train, y_train)\n",
    "dTC_pred = dTC.predict(X_test)\n",
    "display_outputs('Decision tree',dTC_pred,dTC,std=False)\n",
    "\n",
    "# Random forest\n",
    "from sklearn.ensemble import RandomForestClassifier\n",
    "rFC = RandomForestClassifier(max_depth=2, random_state=0)\n",
    "rFC.fit(X_train, y_train)\n",
    "rFC_pred = rFC.predict(X_test)\n",
    "display_outputs('Random forest',rFC_pred,rFC,std=False)"
   ]
  },
  {
   "cell_type": "markdown",
   "metadata": {
    "id": "jXDdGnb2DFto"
   },
   "source": [
    "**Standardization:** is a scaling technique where the values are centered around the mean with a unit standard deviation"
   ]
  },
  {
   "cell_type": "markdown",
   "metadata": {
    "id": "65dPxYQNDIbL"
   },
   "source": [
    "# **[Problem 10] (Advanced task) Method with high accuracy using all objective variables**"
   ]
  },
  {
   "cell_type": "code",
   "execution_count": null,
   "metadata": {
    "id": "rswGMp93DTeR"
   },
   "outputs": [],
   "source": [
    "def decision_region_2(X, y, model, step=0.01, title='decision region', xlabel='xlabel', ylabel='ylabel', target_names=['versicolor', 'virginica','setosa']):\n",
    "    # setting\n",
    "    scatter_color = ['red', 'blue', 'green']\n",
    "    contourf_color = ['pink', 'skyblue', 'lightgreen']\n",
    "    n_class = 3\n",
    "    # predition\n",
    "    mesh_f0, mesh_f1  = np.meshgrid(np.arange(np.min(X[:,0])-0.5, np.max(X[:,0])+0.5, step), np.arange(np.min(X[:,1])-0.5, np.max(X[:,1])+0.5, step))\n",
    "    mesh = np.c_[np.ravel(mesh_f0),np.ravel(mesh_f1)]\n",
    "    y_pred = model.predict(mesh).reshape(mesh_f0.shape)\n",
    "    # plot\n",
    "    plt.title(title)\n",
    "    plt.xlabel(xlabel)\n",
    "    plt.ylabel(ylabel)\n",
    "    plt.contourf(mesh_f0, mesh_f1, y_pred, n_class-1, cmap=ListedColormap(contourf_color))\n",
    "    plt.contour(mesh_f0, mesh_f1, y_pred, n_class-1, colors='y', linewidths=3, alpha=0.5)\n",
    "    for i, target in enumerate(set(y)):\n",
    "        plt.scatter(X[y==target][:, 0], X[y==target][:, 1], s=80, color=scatter_color[i], label=target_names[i], marker='o')\n",
    "    patches = [mpatches.Patch(color=scatter_color[i], label=target_names[i]) for i in range(n_class)]\n",
    "    plt.legend(handles=patches)\n",
    "    plt.legend()\n",
    "    plt.show()\n",
    "\n",
    "def display_outputs_2(title,pred,model,std):\n",
    "    print(title)\n",
    "    print(\"pred = \", pred)\n",
    "    print(\"accuracy =\", accuracy_score(y_true=y_test, y_pred=pred))\n",
    "    print(\"precision =\", precision_score(y_true=y_test, y_pred=pred,average=None))    \n",
    "    print(\"recall =\", recall_score(y_true=y_test, y_pred=pred,average=None))  \n",
    "    print(\"f1 score =\", f1_score(y_true=y_test, y_pred=pred,average=None)) \n",
    "    print(\"confusion matrix =\", confusion_matrix(y_true=y_test, y_pred=pred)) \n",
    "    if (std == True):\n",
    "        decision_region_2(X_test_trans, y_test, model)\n",
    "    else:\n",
    "        decision_region_2(X_test, y_test, model)\n",
    "    print(\"------------------------------------------------------------------------------------------------------------------------------------\")\n",
    "# new variables with all targets\n",
    "X2 = df.iloc[:, :-1].values\n",
    "y2 = df.iloc[:, -1].values\n",
    "\n",
    "X_train, X_test, y_train, y_test = train_test_split(X2, y2, test_size=0.25, random_state=42)\n",
    "\n",
    "# knn\n",
    "k_neigh_3_2 = KNeighborsClassifier(n_neighbors=3)\n",
    "k_neigh_3_2.fit(X_train, y_train.ravel())\n",
    "pred_3_2 = k_neigh_3_2.predict(X_test)\n",
    "display_outputs_2('Knn',pred_3_2,k_neigh_3_2,std=False)\n",
    "\n",
    "# LogisticRegression\n",
    "from sklearn.linear_model import LogisticRegression\n",
    "lR_fit = LogisticRegression(random_state=0).fit(X_train, y_train)\n",
    "lR_predict = lR_fit.predict(X_test)\n",
    "display_outputs_2('Logistic regression',lR_predict,lR_fit,std=False)\n",
    "\n",
    "# SVM\n",
    "from sklearn.pipeline import make_pipeline\n",
    "from sklearn.preprocessing import StandardScaler\n",
    "from sklearn.svm import SVC\n",
    "clf = make_pipeline(StandardScaler(), SVC(gamma='auto'))\n",
    "clf.fit(X_train, y_train)\n",
    "clf_pred = clf.predict(X_test)\n",
    "display_outputs_2('SVM',clf_pred,clf,std=False)\n",
    "\n",
    "# Decision tree\n",
    "from sklearn.tree import DecisionTreeClassifier\n",
    "dTC = DecisionTreeClassifier(random_state=0)\n",
    "dTC.fit(X_train, y_train)\n",
    "dTC_pred = dTC.predict(X_test)\n",
    "display_outputs_2('Decision tree',dTC_pred,dTC,std=False)\n",
    "\n",
    "# Random forest\n",
    "from sklearn.ensemble import RandomForestClassifier\n",
    "rFC = RandomForestClassifier(max_depth=2, random_state=0)\n",
    "rFC.fit(X_train, y_train)\n",
    "rFC_pred = rFC.predict(X_test)\n",
    "display_outputs_2('Random forest',rFC_pred,rFC,std=False)"
   ]
  }
 ],
 "metadata": {
  "colab": {
   "authorship_tag": "ABX9TyN9C/AUmNTL3ahk8fVbYdvm",
   "collapsed_sections": [],
   "name": "Week 4.1 _ Pre-class assignment 1 Classification of irises.ipynb",
   "provenance": []
  },
  "kernelspec": {
   "display_name": "Python 3",
   "language": "python",
   "name": "python3"
  },
  "language_info": {
   "codemirror_mode": {
    "name": "ipython",
    "version": 3
   },
   "file_extension": ".py",
   "mimetype": "text/x-python",
   "name": "python",
   "nbconvert_exporter": "python",
   "pygments_lexer": "ipython3",
   "version": "3.8.5"
  }
 },
 "nbformat": 4,
 "nbformat_minor": 1
}
