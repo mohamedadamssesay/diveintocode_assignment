{
 "cells": [
  {
   "cell_type": "markdown",
   "metadata": {},
   "source": [
    "# [Problem 1] Minimum number of folds over Mt. Fuji"
   ]
  },
  {
   "cell_type": "code",
   "execution_count": 1,
   "metadata": {},
   "outputs": [
    {
     "name": "stdout",
     "output_type": "stream",
     "text": [
      "Number of times of folds if exceeds Mt. Fuji is = 26\n"
     ]
    }
   ],
   "source": [
    "Thick0=0.00008\n",
    "distance=3776\n",
    "\n",
    "for n in range(1,44):\n",
    "    thick=Thick0*2**n\n",
    "    if(thick>=distance):\n",
    "        break\n",
    "print(\"Number of times of folds if exceeds Mt. Fuji is = {}\".format(n))"
   ]
  },
  {
   "cell_type": "markdown",
   "metadata": {},
   "source": [
    "# [Problem 2] Creating a function corresponding to an arbitrary thickness"
   ]
  },
  {
   "cell_type": "code",
   "execution_count": 8,
   "metadata": {},
   "outputs": [
    {
     "data": {
      "text/plain": [
       "'The number of times a paper 20000m thick bends is : 28'"
      ]
     },
     "execution_count": 8,
     "metadata": {},
     "output_type": "execute_result"
    }
   ],
   "source": [
    "import math\n",
    "\n",
    "def arbitrary_thickness(distance):\n",
    "    thickness = 0.00008\n",
    "    \n",
    "    num_of_bends = math.log2(distance/thickness)\n",
    "    \n",
    "    return f'The number of times a paper {distance}m thick bends is : {round(num_of_bends)}'\n",
    "    \n",
    "arbitrary_thickness(20000)"
   ]
  },
  {
   "cell_type": "code",
   "execution_count": 14,
   "metadata": {},
   "outputs": [
    {
     "data": {
      "text/plain": [
       "'The length of the paper necessary to reach a thickness of 100m is: 65450004m'"
      ]
     },
     "execution_count": 14,
     "metadata": {},
     "output_type": "execute_result"
    }
   ],
   "source": [
    "def paper_length(distance):\n",
    "    thickness = 0.00008\n",
    "    \n",
    "    num_of_bends = math.log2(distance/thickness)\n",
    "    \n",
    "    length = (thickness*math.pi/6)*(2**num_of_bends + 4)*(2**num_of_bends - 1)\n",
    "    \n",
    "    return f'The length of the paper necessary to reach a thickness of {distance}m is: {round(length)}m'\n",
    "paper_length(100)"
   ]
  },
  {
   "cell_type": "code",
   "execution_count": null,
   "metadata": {},
   "outputs": [],
   "source": []
  }
 ],
 "metadata": {
  "kernelspec": {
   "display_name": "Python 3",
   "language": "python",
   "name": "python3"
  },
  "language_info": {
   "codemirror_mode": {
    "name": "ipython",
    "version": 3
   },
   "file_extension": ".py",
   "mimetype": "text/x-python",
   "name": "python",
   "nbconvert_exporter": "python",
   "pygments_lexer": "ipython3",
   "version": "3.8.5"
  }
 },
 "nbformat": 4,
 "nbformat_minor": 4
}
