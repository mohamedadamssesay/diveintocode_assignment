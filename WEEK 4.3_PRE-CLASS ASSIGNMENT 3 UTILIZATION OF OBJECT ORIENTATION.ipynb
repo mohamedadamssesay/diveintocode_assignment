{
 "cells": [
  {
   "cell_type": "markdown",
   "metadata": {
    "id": "zYh0JY8m0Q2P"
   },
   "source": [
    "# **[Problem 1] Enumeration of classes used so far**"
   ]
  },
  {
   "cell_type": "markdown",
   "metadata": {
    "id": "AK3xhdrO04Vc"
   },
   "source": [
    "**The classes that we have used in our previouse Assignment are:**\n",
    "\n",
    "1. pandas.read_csv()\n",
    "2. matplotlib.show()\n",
    "3. sklearn.ensemble"
   ]
  },
  {
   "cell_type": "markdown",
   "metadata": {
    "id": "UG2zcihD1LZR"
   },
   "source": [
    "# **[Problem 2] Enumeration of methods and instance variables used so far**"
   ]
  },
  {
   "cell_type": "markdown",
   "metadata": {
    "id": "1c4aIAZa1PAq"
   },
   "source": [
    "**The kinds of method and instance variable in the code used in the previous exercises are:**\n",
    "\n",
    "**Methods**\n",
    "\n",
    "1. pandas.loc()\n",
    "2. pandas.iloc()\n",
    "3. numpy.sum()\n",
    "4. numpy.reshape()\n",
    "5. numpy.ravel()\n",
    "\n",
    "**Instance variable**\n",
    "\n",
    "1. ndarray.shape\n",
    "2. ndarray.ndim\n",
    "3. ndarray.dtype\n",
    "4. ndarray.size\n",
    "5. ndarray.data"
   ]
  },
  {
   "cell_type": "markdown",
   "metadata": {
    "id": "8O35KkKb10XH"
   },
   "source": [
    "# **[Problem 3] Creating a standardized class by scratch**"
   ]
  },
  {
   "cell_type": "code",
   "execution_count": null,
   "metadata": {
    "colab": {
     "base_uri": "https://localhost:8080/"
    },
    "id": "J46v7RQL16UA",
    "outputId": "4596e3c4-73b8-4f64-eb95-eae60578195a"
   },
   "outputs": [
    {
     "name": "stdout",
     "output_type": "stream",
     "text": [
      "Average : [4.86 3.31 1.45 0.22]\n",
      "Dispersed : [0.0764 0.0849 0.0105 0.0056]\n",
      "[[  3.14136126   2.23792697  -4.76190476  -3.57142857]\n",
      " [  0.52356021  -3.65135453  -4.76190476  -3.57142857]\n",
      " [ -2.09424084  -1.29564193 -14.28571429  -3.57142857]\n",
      " [ -3.40314136  -2.47349823   4.76190476  -3.57142857]\n",
      " [  1.83246073   3.41578327  -4.76190476  -3.57142857]\n",
      " [  7.06806283   6.94935218  23.80952381  32.14285714]\n",
      " [ -3.40314136   1.06007067  -4.76190476  14.28571429]\n",
      " [  1.83246073   1.06007067   4.76190476  -3.57142857]\n",
      " [ -6.02094241  -4.82921084  -4.76190476  -3.57142857]\n",
      " [  0.52356021  -2.47349823   4.76190476 -21.42857143]]\n"
     ]
    }
   ],
   "source": [
    "import numpy as np\n",
    "\n",
    "class ScratchStandardScaler():\n",
    "    \n",
    "    def fit(self, X):\n",
    "        \n",
    "        self.mean_ = np.mean(X, axis=0)\n",
    "        self.var_ = np.var(X, axis=0)\n",
    "        pass\n",
    "    def transform(self, X):\n",
    "    \n",
    "        X_scaled = (X-self.mean_)/self.var_\n",
    "        pass\n",
    "        return X_scaled\n",
    "\n",
    "from sklearn.datasets import load_iris\n",
    "data = load_iris()\n",
    "X = data.data[:10]\n",
    "scratch_scaler = ScratchStandardScaler()\n",
    "scratch_scaler.fit(X)\n",
    "print(\"Average : {}\".format(scratch_scaler.mean_))\n",
    "print(\"Dispersed : {}\".format(scratch_scaler.var_))\n",
    "X_std= scratch_scaler.transform(X)\n",
    "print(X_std)"
   ]
  },
  {
   "cell_type": "markdown",
   "metadata": {
    "id": "TnqQJFcM2KiX"
   },
   "source": [
    "# **[Problem 4] Creating a class that performs 4 arithmetic operations**"
   ]
  },
  {
   "cell_type": "code",
   "execution_count": null,
   "metadata": {
    "colab": {
     "base_uri": "https://localhost:8080/"
    },
    "id": "5Zq-Vefk2QLM",
    "outputId": "db8624b3-56a5-4418-fc34-dbe269de6839"
   },
   "outputs": [
    {
     "name": "stdout",
     "output_type": "stream",
     "text": [
      "Initial value 5 set\n",
      "value : 5\n",
      "addition value : 8\n",
      "Please input only numbers\n",
      "Please input only numbers\n",
      "subtraction value : can not be calculated because one of the values is not a number\n",
      "multiplication value : 24\n",
      "Please input only numbers\n",
      "division value : can not be calculated because one of the values is not a number\n"
     ]
    }
   ],
   "source": [
    "def type_judge(value_to_judge):\n",
    "    if not isinstance(value_to_judge, (int,float)):\n",
    "        print(\"Please input only numbers\")\n",
    "        return False\n",
    "    else:\n",
    "        return True\n",
    "\n",
    "class ArthClass():\n",
    "        \n",
    "    def __init__(self, value):\n",
    "        if(type_judge(value)):\n",
    "            self.value = value\n",
    "            print(\"Initial value {} set\".format(self.value))\n",
    "        else:\n",
    "            self.value = value\n",
    "        \n",
    "    def add(self, value2):\n",
    "        \n",
    "        if type_judge(self.value) and type_judge(value2):\n",
    "            self.value += value2\n",
    "        else:\n",
    "            self.value = \"can not be calculated because one of the values is not a number\"\n",
    "        \n",
    "    def sub(self, value2):\n",
    "        \n",
    "        if type_judge(self.value) and type_judge(value2):\n",
    "            self.value -= value2\n",
    "        else:\n",
    "            self.value = \"can not be calculated because one of the values is not a number\"\n",
    "            \n",
    "    def mult(self, value2):\n",
    "        \n",
    "        if type_judge(self.value) and type_judge(value2):\n",
    "            self.value *= value2\n",
    "        else:\n",
    "            self.value = \"can not be calculated because one of the values is not a number\"\n",
    "    \n",
    "    def div(self, value2):\n",
    "        \n",
    "        if type_judge(self.value) and type_judge(value2):\n",
    "            self.value /= value2\n",
    "        else:\n",
    "            self.value = \"can not be calculated because one of the values is not a number\"\n",
    "        \n",
    "example = ArthClass(5)\n",
    "print(\"value : {}\".format(example.value))\n",
    "example.add(3)\n",
    "print(\"addition value : {}\".format(example.value))\n",
    "\n",
    "example2 = ArthClass(\"k\")\n",
    "example2.sub(3)\n",
    "print(\"subtraction value : {}\".format(example2.value))\n",
    "\n",
    "example.mult(3)\n",
    "print(\"multiplication value : {}\".format(example.value))\n",
    "example.div(\"k\")\n",
    "print(\"division value : {}\".format(example.value))"
   ]
  }
 ],
 "metadata": {
  "colab": {
   "collapsed_sections": [],
   "name": "Week 4.3 _ Pre-class assignment 3 Utilization of Object Orientation.ipynb",
   "provenance": []
  },
  "kernelspec": {
   "display_name": "Python 3",
   "language": "python",
   "name": "python3"
  },
  "language_info": {
   "codemirror_mode": {
    "name": "ipython",
    "version": 3
   },
   "file_extension": ".py",
   "mimetype": "text/x-python",
   "name": "python",
   "nbconvert_exporter": "python",
   "pygments_lexer": "ipython3",
   "version": "3.8.5"
  }
 },
 "nbformat": 4,
 "nbformat_minor": 1
}
