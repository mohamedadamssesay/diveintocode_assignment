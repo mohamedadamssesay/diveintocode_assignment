{
 "cells": [
  {
   "cell_type": "markdown",
   "metadata": {},
   "source": [
    "[Problem 1] Create using the exponentiation arithmetic operator"
   ]
  },
  {
   "cell_type": "code",
   "execution_count": 1,
   "metadata": {},
   "outputs": [
    {
     "name": "stdout",
     "output_type": "stream",
     "text": [
      "Thickness： 703687441.77664 meters\n"
     ]
    }
   ],
   "source": [
    "THICKNESS = 0.00008\n",
    "folded_thickness = THICKNESS*2**43\n",
    "print(\"Thickness： {} meters\".format(folded_thickness))"
   ]
  },
  {
   "cell_type": "markdown",
   "metadata": {},
   "source": [
    "[Problem 2] Unit Conversion"
   ]
  },
  {
   "cell_type": "code",
   "execution_count": 2,
   "metadata": {},
   "outputs": [
    {
     "name": "stdout",
     "output_type": "stream",
     "text": [
      "Thickness： 70368.74km\n"
     ]
    }
   ],
   "source": [
    "#convert a meter into a kilometer and display it in two decimal places\n",
    "print(\"Thickness： {:.2f}km\".format(folded_thickness/10000))\n"
   ]
  },
  {
   "cell_type": "markdown",
   "metadata": {},
   "source": [
    "Distance to the Moon is 384,400 km But the paper is 70368.74km\n",
    "So the paper did not reach the moon"
   ]
  },
  {
   "cell_type": "markdown",
   "metadata": {},
   "source": [
    "[Problem 3] Create using a for statement"
   ]
  },
  {
   "cell_type": "code",
   "execution_count": 4,
   "metadata": {},
   "outputs": [],
   "source": [
    "def paper(num_folds=43, thickness=0.00008):\n",
    "    for i in range(1, num_folds + 1):\n",
    "        thickness = thickness *2*2*2*2*2*2*2*2*2*2*2*2*2*2*2*2*2*2*2*2*2*2*2*2*2*2*2*2*2*2*2*2*2*2*2*2*2*2*2*2*2*2*2\n",
    "        print(\"Thickness： {} meters\".format(thickness))\n",
    "        if thickness >= 10000:\n",
    "            #convert to kilometer\n",
    "            print(\"Thickness： {:.2f}km\".format(thickness/10000))\n",
    "        else:\n",
    "            #convert to meter\n",
    "           \n",
    "            print(\"Thickness： {:.2f}meter\".format(thickness/1000))\n",
    "                \n",
    "\n",
    "\n",
    "                \n",
    "    "
   ]
  },
  {
   "cell_type": "markdown",
   "metadata": {},
   "source": [
    "[Problem 4] Comparison of calculation time"
   ]
  },
  {
   "cell_type": "code",
   "execution_count": null,
   "metadata": {},
   "outputs": [],
   "source": [
    "import time\n",
    "\n",
    "start = time.time()\n",
    "THICKNESS = 0.00008\n",
    "folded_thickness = THICKNESS*2**43\n",
    "print(\"Thickness： {} meters\".format(folded_thickness))\n",
    "elapsed_time = time.time() - start\n",
    "print(\"time : {} sec\".format(elapsed_time))\n",
    "\n"
   ]
  },
  {
   "cell_type": "code",
   "execution_count": null,
   "metadata": {},
   "outputs": [],
   "source": [
    "%%timeit\n",
    "folded_thickness = THICKNESS*2**43\n",
    "folded_thickness\n"
   ]
  },
  {
   "cell_type": "markdown",
   "metadata": {},
   "source": [
    "|[Problem 5] Saving to a list"
   ]
  },
  {
   "cell_type": "code",
   "execution_count": null,
   "metadata": {},
   "outputs": [],
   "source": [
    "#Creating an empty list\n",
    "list1 = [0.00008]\n",
    "fold_num = 43\n",
    "thickness = 0.00008\n",
    "\n",
    "#folded_thickness = \n",
    "for i in range(1, fold_num + 1):\n",
    "    folded_thickness = thickness*2**i\n",
    "    \n",
    "    #Adding values to the list\n",
    "    list1.append(folded_thickness)\n",
    "    print(list1)\n",
    "    print(len(list1))"
   ]
  },
  {
   "cell_type": "code",
   "execution_count": null,
   "metadata": {},
   "outputs": [],
   "source": [
    "print(len(list1))"
   ]
  },
  {
   "cell_type": "markdown",
   "metadata": {},
   "source": [
    "PROBLEM 6- DISPLAYING A LINE GRAPE"
   ]
  },
  {
   "cell_type": "code",
   "execution_count": null,
   "metadata": {},
   "outputs": [],
   "source": [
    "import matplotlib.pyplot as plt\n",
    "#%matplotlib inline\n",
    "\n",
    "plt.title(\"thickness of folded paper\")\n",
    "plt.xlabel(\"number of folds\")\n",
    "plt.ylabel(\"thickness[M]\")\n",
    "plt.tick_params(labelsize=10)\n",
    "plt.plot(list1)\n",
    "plt.show()"
   ]
  },
  {
   "cell_type": "markdown",
   "metadata": {},
   "source": [
    "FROM THE GRAPH, IT IS OBSERVED THAT THE THICKNESS OF THE INCREASES WHEN THE NUMBER OF FOLDS INCREASES. THERE IS SLOW AND GRADUAL INCREAMENT IN THE THICKNESS OF THE PAPER.\n"
   ]
  },
  {
   "cell_type": "markdown",
   "metadata": {},
   "source": [
    "PROBLEM 7- Customizing graphs"
   ]
  },
  {
   "cell_type": "code",
   "execution_count": null,
   "metadata": {},
   "outputs": [],
   "source": [
    "#Making the line dotted\n",
    "plt.title(\"thickness of folded paper\")\n",
    "plt.xlabel(\"number of folds\")\n",
    "plt.ylabel(\"thickness[M]\")\n",
    "#changing line style and color\n",
    "plt.plot(list1, 'ro' )\n",
    "\n",
    "plt.figure(figsize=(48, 24))\n",
    "plt.show()"
   ]
  },
  {
   "cell_type": "code",
   "execution_count": null,
   "metadata": {},
   "outputs": [],
   "source": [
    "plt.title(\"thickness of folded paper\")\n",
    "plt.xlabel(\"number of folds\")\n",
    "plt.ylabel(\"thickness[M]\")\n",
    "#changing line style and color\n",
    "plt.plot(list1, linewidth=3.0, color='red' )\n",
    "plt.tick_params(labelsize=20)\n",
    "plt.figure(figsize=(48, 24))\n",
    "plt.show()\n",
    "\n"
   ]
  },
  {
   "cell_type": "code",
   "execution_count": null,
   "metadata": {},
   "outputs": [],
   "source": []
  },
  {
   "cell_type": "code",
   "execution_count": null,
   "metadata": {},
   "outputs": [],
   "source": []
  }
 ],
 "metadata": {
  "kernelspec": {
   "display_name": "Python 3",
   "language": "python",
   "name": "python3"
  },
  "language_info": {
   "codemirror_mode": {
    "name": "ipython",
    "version": 3
   },
   "file_extension": ".py",
   "mimetype": "text/x-python",
   "name": "python",
   "nbconvert_exporter": "python",
   "pygments_lexer": "ipython3",
   "version": "3.8.5"
  }
 },
 "nbformat": 4,
 "nbformat_minor": 4
}
