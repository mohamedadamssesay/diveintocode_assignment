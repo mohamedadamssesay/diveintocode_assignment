{
  "nbformat": 4,
  "nbformat_minor": 0,
  "metadata": {
    "kernelspec": {
      "display_name": "Python 3",
      "language": "python",
      "name": "python3"
    },
    "language_info": {
      "codemirror_mode": {
        "name": "ipython",
        "version": 3
      },
      "file_extension": ".py",
      "mimetype": "text/x-python",
      "name": "python",
      "nbconvert_exporter": "python",
      "pygments_lexer": "ipython3",
      "version": "3.8.5"
    },
    "colab": {
      "name": "sprint9.ipynb",
      "provenance": []
    },
    "accelerator": "GPU"
  },
  "cells": [
    {
      "cell_type": "code",
      "metadata": {
        "id": "uECBDtFUbm_Q"
      },
      "source": [
        "# importing dependencies\n",
        "import matplotlib.pyplot as plt\n",
        "from keras.datasets import mnist\n",
        "import numpy as np\n",
        "from sklearn.preprocessing import OneHotEncoder\n",
        "from sklearn.model_selection import train_test_split\n",
        "from sklearn.metrics import accuracy_score"
      ],
      "execution_count": 93,
      "outputs": []
    },
    {
      "cell_type": "code",
      "metadata": {
        "id": "We0Ryhlqbm_g"
      },
      "source": [
        "# get subsets\n",
        "(X_train, y_train), (X_test, y_test) = mnist.load_data()"
      ],
      "execution_count": 94,
      "outputs": []
    },
    {
      "cell_type": "code",
      "metadata": {
        "colab": {
          "base_uri": "https://localhost:8080/"
        },
        "id": "tiNoksA-bm_h",
        "outputId": "a6bd85e3-4d50-444f-9455-0086941ec750"
      },
      "source": [
        "# checking the subsets\n",
        "print(X_train.shape) \n",
        "print(X_test.shape)"
      ],
      "execution_count": 95,
      "outputs": [
        {
          "output_type": "stream",
          "text": [
            "(60000, 28, 28)\n",
            "(10000, 28, 28)\n"
          ],
          "name": "stdout"
        }
      ]
    },
    {
      "cell_type": "code",
      "metadata": {
        "id": "2rNkkIbjbm_k"
      },
      "source": [
        "# flattening the subsets\n",
        "X_train = X_train.reshape(-1,784)\n",
        "X_test = X_test.reshape(-1,784)"
      ],
      "execution_count": 96,
      "outputs": []
    },
    {
      "cell_type": "code",
      "metadata": {
        "colab": {
          "base_uri": "https://localhost:8080/",
          "height": 281
        },
        "id": "da7azwaVbm_l",
        "outputId": "116a0f00-70b9-471b-cc83-cc58b396df6d"
      },
      "source": [
        "# visualize the data\n",
        "%matplotlib inline\n",
        "index = 0\n",
        "image = X_train[index].reshape(28,28)\n",
        "plt.imshow(image, 'gray', vmin = 0, vmax = 255)\n",
        "plt.title('label : {}'.format(y_train[index]))\n",
        "plt.show()"
      ],
      "execution_count": 97,
      "outputs": [
        {
          "output_type": "display_data",
          "data": {
            "image/png": "[encoded data removed]",
            "text/plain": [
              "<Figure size 432x288 with 1 Axes>"
            ]
          },
          "metadata": {
            "tags": [],
            "needs_background": "light"
          }
        }
      ]
    },
    {
      "cell_type": "code",
      "metadata": {
        "colab": {
          "base_uri": "https://localhost:8080/"
        },
        "id": "Y9giwg0Xbm_m",
        "outputId": "1a04adba-fe0e-4dfd-ecb5-2491c41e3ece"
      },
      "source": [
        "# pre processing\n",
        "X_train = X_train.astype(np.float)\n",
        "X_test = X_test.astype(np.float)\n",
        "X_train /= 255\n",
        "X_test /= 255\n",
        "print(X_train.max()) # 1.0\n",
        "print(X_train.min())"
      ],
      "execution_count": 98,
      "outputs": [
        {
          "output_type": "stream",
          "text": [
            "1.0\n",
            "0.0\n"
          ],
          "name": "stdout"
        }
      ]
    },
    {
      "cell_type": "code",
      "metadata": {
        "id": "8WcVgBiXbm_o"
      },
      "source": [
        "# splitting our subsets into train and validation subsets\n",
        "X_train, X_val, y_train, y_val = train_test_split(X_train, y_train, test_size=0.2)"
      ],
      "execution_count": 99,
      "outputs": []
    },
    {
      "cell_type": "code",
      "metadata": {
        "colab": {
          "base_uri": "https://localhost:8080/"
        },
        "id": "f10EJYL4bm_n",
        "outputId": "85df8b8a-05ed-49fb-e3b5-bf4e0036270b"
      },
      "source": [
        "enc = OneHotEncoder(handle_unknown='ignore', sparse=False)\n",
        "y_train_one_hot = enc.fit_transform(y_train[:, np.newaxis])\n",
        "y_test_one_hot = enc.transform(y_val[:, np.newaxis])\n",
        "print(y_train.shape) # (60000,)\n",
        "print(y_train_one_hot.shape) # (60000, 10)\n",
        "print(y_train_one_hot.dtype) # float64"
      ],
      "execution_count": 100,
      "outputs": [
        {
          "output_type": "stream",
          "text": [
            "(48000,)\n",
            "(48000, 10)\n",
            "float64\n"
          ],
          "name": "stdout"
        }
      ]
    },
    {
      "cell_type": "code",
      "metadata": {
        "colab": {
          "base_uri": "https://localhost:8080/"
        },
        "id": "bba1V1yKbm_q",
        "outputId": "1470d405-edfe-4a66-8771-d96ea98ab881"
      },
      "source": [
        "print(X_train.shape) # (48000, 784)\n",
        "print(X_val.shape) # (12000, 784)"
      ],
      "execution_count": 101,
      "outputs": [
        {
          "output_type": "stream",
          "text": [
            "(48000, 784)\n",
            "(12000, 784)\n"
          ],
          "name": "stdout"
        }
      ]
    },
    {
      "cell_type": "code",
      "metadata": {
        "id": "-ZEwNFpbbm_r"
      },
      "source": [
        "# mini batch\n",
        "class GetMiniBatch:\n",
        "    \"\"\"\n",
        "Iterator to get a mini-batch\n",
        "    Parameters\n",
        "    ----------\n",
        "    X : The following forms of ndarray, shape (n_samples, n_features)\n",
        "      Training data\n",
        "    y : The following form of ndarray, shape (n_samples, 1)\n",
        "      Correct answer value\n",
        "    batch_size : int\n",
        "      Batch size\n",
        "    seed : int\n",
        "      NumPy random number seed\n",
        "    \"\"\"\n",
        "    def __init__(self, X, y, batch_size = 20, seed=0):\n",
        "        self.batch_size = batch_size\n",
        "        np.random.seed(seed)\n",
        "        shuffle_index = np.random.permutation(np.arange(X.shape[0]))\n",
        "        self._X = X[shuffle_index]\n",
        "        self._y = y[shuffle_index]\n",
        "        self._stop = np.ceil(X.shape[0]/self.batch_size).astype(np.int)\n",
        "    def __len__(self):\n",
        "        return self._stop\n",
        "    def __getitem__(self,item):\n",
        "        p0 = item*self.batch_size\n",
        "        p1 = item*self.batch_size + self.batch_size\n",
        "        return self._X[p0:p1], self._y[p0:p1]        \n",
        "    def __iter__(self):\n",
        "        self._counter = 0\n",
        "        return self\n",
        "    def __next__(self):\n",
        "        if self._counter >= self._stop:\n",
        "            raise StopIteration()\n",
        "        p0 = self._counter*self.batch_size\n",
        "        p1 = self._counter*self.batch_size + self.batch_size\n",
        "        self._counter += 1\n",
        "        return self._X[p0:p1], self._y[p0:p1]"
      ],
      "execution_count": 102,
      "outputs": []
    },
    {
      "cell_type": "code",
      "metadata": {
        "id": "RCkrElU3bm_t"
      },
      "source": [
        "# calculating the batch\n",
        "get_mini_batch = GetMiniBatch(X_train, y_train, batch_size=20)"
      ],
      "execution_count": 103,
      "outputs": []
    },
    {
      "cell_type": "code",
      "metadata": {
        "colab": {
          "base_uri": "https://localhost:8080/"
        },
        "id": "V8vYbTrlbm_u",
        "outputId": "613c31b4-a23b-42ee-d14e-c44ba99eb89c"
      },
      "source": [
        "print(len(get_mini_batch))"
      ],
      "execution_count": 104,
      "outputs": [
        {
          "output_type": "stream",
          "text": [
            "2400\n"
          ],
          "name": "stdout"
        }
      ]
    },
    {
      "cell_type": "markdown",
      "metadata": {
        "id": "QO6dTy91bm_u"
      },
      "source": [
        "[Problem 1] Creating a code to determine the initial weight value"
      ]
    },
    {
      "cell_type": "code",
      "metadata": {
        "id": "RZqgUzevbm_v"
      },
      "source": [
        "n_sample,n_features = X_train.shape\n",
        "n_nodes1 = 400\n",
        "sigma = 0.01 # Standard deviation of Gaussian distribution\n",
        "W1 = sigma * np.random.randn(n_features, n_nodes1)"
      ],
      "execution_count": 105,
      "outputs": []
    },
    {
      "cell_type": "code",
      "metadata": {
        "colab": {
          "base_uri": "https://localhost:8080/"
        },
        "id": "V4QvA4-Lbm_w",
        "outputId": "ba448345-8b5a-41e1-93e1-1b936d465c9c"
      },
      "source": [
        "print(n_nodes1)"
      ],
      "execution_count": 106,
      "outputs": [
        {
          "output_type": "stream",
          "text": [
            "400\n"
          ],
          "name": "stdout"
        }
      ]
    },
    {
      "cell_type": "code",
      "metadata": {
        "id": "KuznxApDbm_w"
      },
      "source": [
        "# neural network from scratch\n",
        "class ScratchSimpleNeuralNetrowkClassifier():\n",
        "\n",
        "    def __init__(self, verbose = True, n_features=784,n_nodes1=400,n_nodes2=200, batch_size=20,n_output=10, n_epoch=10, lr=0.01, sigma=0.02):\n",
        "        self.verbose = verbose\n",
        "        self.n_features = n_features\n",
        "        self.n_nodes1 = n_nodes1\n",
        "        self.n_nodes2 = n_nodes2\n",
        "        self.batch_size = batch_size\n",
        "        self.n_output = n_output\n",
        "        self.n_epoch = 30\n",
        "        self.lr = lr\n",
        "        self.sigma = sigma\n",
        "        self.W1 = None\n",
        "        self.b1 = None\n",
        "        self.W2 = None\n",
        "        self.b2 = None\n",
        "        self.W3 = None\n",
        "        self.b3 = None\n",
        "        self.loss = []\n",
        "        self.val_loss = []\n",
        "        pass\n",
        "    \n",
        "    def fit(self, X, y, X_val=None, y_val=None):\n",
        "      self.create_init_w_b()\n",
        "      for epoch in range(self.n_epoch):\n",
        "          get_mini_batch = GetMiniBatch(X, y, self.batch_size)\n",
        "          for mini_X_train, mini_y_train in get_mini_batch: \n",
        "            # forward propagation\n",
        "            self.forward_propagation(mini_X_train)\n",
        "            self.back_propagation(mini_X_train, mini_y_train)\n",
        "          self.forward_propagation(X)\n",
        "          self.loss.append(self.cross_entropy_error(y, self.layer_3))\n",
        "          if X_val is not None:\n",
        "              self.forward_propagation(X_val)\n",
        "              self.val_loss.append(self.cross_entropy_error(y_val, self.layer_3))\n",
        "\n",
        "      if self.verbose:\n",
        "          # When verbose is set to True, the learning process etc. is output.\n",
        "          print(self.loss)\n",
        "      pass\n",
        "    \n",
        "    def create_init_w_b(self):\n",
        "      self.W1 = self.sigma * np.random.randn(self.n_features, self.n_nodes1)\n",
        "      self.b1 = self.sigma * np.random.randn(1, self.n_nodes1)\n",
        "      self.W2 = self.sigma * np.random.randn(self.n_nodes1, self.n_nodes2)\n",
        "      self.b2 = self.sigma * np.random.randn(1, self.n_nodes2)\n",
        "      self.W3 = self.sigma * np.random.randn(self.n_nodes2, self.n_output)\n",
        "      self.b3 = self.sigma * np.random.randn(1, self.n_output)\n",
        "    \n",
        "    def activation_function(self,X, layer):\n",
        "      if layer == \"hidden\" or layer == \"first\":\n",
        "        act_f = np.tanh(X)\n",
        "        return act_f\n",
        "      else: \n",
        "        act_f = np.exp(X) / np.sum(np.exp(X), axis=1).reshape(-1, 1)\n",
        "        return act_f\n",
        "\n",
        "    def cross_entropy_error(self, y, Z):\n",
        "      return -np.sum([y[i]*np.log2(Z[i]) for i in range(len(y))])\n",
        "\n",
        "    def forward_propagation(self,X):\n",
        "        self.layer_1_pre = np.matmul(X,self.W1) + self.b1\n",
        "        self.layer_1 = self.activation_function(self.layer_1_pre, \"first\")\n",
        "\n",
        "        self.layer_2_pre = np.matmul(self.layer_1,self.W2) + self.b2\n",
        "        self.layer_2 = self.activation_function(self.layer_2_pre, \"hidden\")\n",
        "\n",
        "        self.layer_3_pre = np.matmul(self.layer_2,self.W3) + self.b3\n",
        "        self.layer_3 = self.activation_function(self.layer_3_pre, \"output\")\n",
        "        \n",
        "    def back_propagation(self, X, y):\n",
        "      dA3 = self.layer_3 - y\n",
        "      dB3 = np.sum(dA3, axis=0)\n",
        "      dW3 = self.layer_2.T @ dA3\n",
        "      dZ2 = dA3 @ self.W3.T\n",
        "      dA2 = dZ2 * (1 - self.activation_function(self.layer_2_pre, \"hidden\")**2)\n",
        "      dB2 = np.sum(dA2, axis=0)\n",
        "      dW2 = self.layer_1.T @ dA2\n",
        "      dZ1 = dA2 @ self.W2.T\n",
        "      dA1 = dZ1 * (1 - self.activation_function(self.layer_1_pre, \"first\")**2)\n",
        "      dB1 = np.sum(dA1, axis=0)\n",
        "      dW1 = X.T @ dA1\n",
        "      self.W3 -= self.lr * dW3\n",
        "      self.b3 -= self.lr * dB3\n",
        "      self.W2 -= self.lr * dW2\n",
        "      self.b2 -= self.lr * dB2\n",
        "      self.W1 -= self.lr * dW1\n",
        "      self.b1 -= self.lr * dB1\n",
        "\n",
        "    def predict(self, X):\n",
        "      self.forward_propagation(X)\n",
        "      return np.argmax(self.layer_3, axis=1)"
      ],
      "execution_count": 154,
      "outputs": []
    },
    {
      "cell_type": "markdown",
      "metadata": {
        "id": "bEJ5I5ZtXcwc"
      },
      "source": [
        "###【Problem 6】Learning and estimation"
      ]
    },
    {
      "cell_type": "code",
      "metadata": {
        "colab": {
          "base_uri": "https://localhost:8080/"
        },
        "id": "wbAySPcRbm_x",
        "outputId": "b7863c48-1d71-43e8-c731-0ee3b98feb16"
      },
      "source": [
        "model = ScratchSimpleNeuralNetrowkClassifier()\n",
        "model.fit(X_train,y_train_one_hot,X_val,y_test_one_hot)"
      ],
      "execution_count": 155,
      "outputs": [
        {
          "output_type": "stream",
          "text": [
            "[14151.382616665815, 8056.32709581897, 5842.7673881685705, 4346.841903886216, 3385.4965557820155, 2394.367679698836, 1476.7212166417423, 1017.5371651918961, 742.2339620643138, 597.316530784491, 270.27214951369626, 178.90577225096658, 110.71986767539508, 77.43428456848167, 58.17074119039177, 48.82181401445013, 42.34009604984324, 37.53568260825419, 33.80875575666292, 30.818899807602303, 28.356907515048036, 26.287089984024853, 24.517491669286557, 22.98349514733875, 21.63829196550065, 20.447084543517803, 19.3834196386987, 18.426792191163887, 17.561034041642124, 16.773202896072767]\n"
          ],
          "name": "stdout"
        }
      ]
    },
    {
      "cell_type": "code",
      "metadata": {
        "id": "1mAihrsdYY_y"
      },
      "source": [
        "y_pred = model.predict(X_val)"
      ],
      "execution_count": 156,
      "outputs": []
    },
    {
      "cell_type": "code",
      "metadata": {
        "id": "M4o91l_4Zcjq",
        "colab": {
          "base_uri": "https://localhost:8080/"
        },
        "outputId": "007d207e-bcfb-42aa-a35e-91a6fac94fa4"
      },
      "source": [
        "accuracy_score(y_val, y_pred)"
      ],
      "execution_count": 157,
      "outputs": [
        {
          "output_type": "execute_result",
          "data": {
            "text/plain": [
              "0.9798333333333333"
            ]
          },
          "metadata": {
            "tags": []
          },
          "execution_count": 157
        }
      ]
    },
    {
      "cell_type": "markdown",
      "metadata": {
        "id": "4AqN69wUYXIk"
      },
      "source": [
        "###【Problem 7】Learning curve plot"
      ]
    },
    {
      "cell_type": "code",
      "metadata": {
        "id": "pC77ciOQYgOw",
        "outputId": "ed0e7418-65e3-4b57-b165-7206aea63dd4",
        "colab": {
          "base_uri": "https://localhost:8080/",
          "height": 509
        }
      },
      "source": [
        "fig = plt.subplots(figsize=(12,8))\r\n",
        "plt.rcParams[\"font.size\"] = 20\r\n",
        "\r\n",
        "plt.plot(model.loss,'rs--', label=\"train\")\r\n",
        "plt.plot(model.val_loss,'bo--', label= \"val\")\r\n",
        "plt.legend()"
      ],
      "execution_count": 159,
      "outputs": [
        {
          "output_type": "execute_result",
          "data": {
            "text/plain": [
              "<matplotlib.legend.Legend at 0x7f711b36e208>"
            ]
          },
          "metadata": {
            "tags": []
          },
          "execution_count": 159
        },
        {
          "output_type": "display_data",
          "data": {
            "image/png": "[encoded data removed]",
            "text/plain": [
              "<Figure size 864x576 with 1 Axes>"
            ]
          },
          "metadata": {
            "tags": [],
            "needs_background": "light"
          }
        }
      ]
    },
    {
      "cell_type": "markdown",
      "metadata": {
        "id": "DKZEIqRNZrgN"
      },
      "source": [
        "### [Problem 8] (Advance assignment) Confirmation of misclassification"
      ]
    },
    {
      "cell_type": "code",
      "metadata": {
        "id": "-m7MsoSqZtfl",
        "outputId": "3817a1a9-740c-4030-d1a1-920d165b194d",
        "colab": {
          "base_uri": "https://localhost:8080/",
          "height": 405
        }
      },
      "source": [
        "num = 36 # How many to display\r\n",
        "\r\n",
        "true_false = y_pred==y_val\r\n",
        "false_list = np.where(true_false==False)[0].astype(np.int)\r\n",
        "if false_list.shape[0] < num:\r\n",
        "    num = false_list.shape[0]\r\n",
        "fig = plt.figure(figsize=(6, 6))\r\n",
        "fig.subplots_adjust(left=0, right=0.8,  bottom=0, top=0.8, hspace=1, wspace=0.5)\r\n",
        "for i in range(num):\r\n",
        "    ax = fig.add_subplot(6, 6, i + 1, xticks=[], yticks=[])\r\n",
        "    ax.set_title(\"{} / {}\".format(y_pred[false_list[i]],y_val[false_list[i]]))\r\n",
        "    ax.imshow(X_val.reshape(-1,28,28)[false_list[i]], cmap='gray')"
      ],
      "execution_count": 160,
      "outputs": [
        {
          "output_type": "display_data",
          "data": {
            "image/png": "[encoded data removed]",
            "text/plain": [
              "<Figure size 432x432 with 36 Axes>"
            ]
          },
          "metadata": {
            "tags": []
          }
        }
      ]
    }
  ]
}