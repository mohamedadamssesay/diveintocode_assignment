{
 "cells": [
  {
   "cell_type": "markdown",
   "metadata": {},
   "source": [
    "# [Problem 1] Minimum number of folds over Mt. Fuji"
   ]
  },
  {
   "cell_type": "code",
   "execution_count": 1,
   "metadata": {},
   "outputs": [
    {
     "name": "stdout",
     "output_type": "stream",
     "text": [
      "Number of times of folds if exceeds Mt. Fuji = 26\n"
     ]
    }
   ],
   "source": [
    "from math import pow\n",
    "Thick0=0.00008\n",
    "thickness_folding=43\n",
    "\n",
    "for n in range(1,thickness_folding + 1):\n",
    "    thick=Thick0*pow(2,n)\n",
    "    if(thick>=3776):\n",
    "        break\n",
    "print(\"Number of times of folds if exceeds Mt. Fuji = {}\".format(n))"
   ]
  },
  {
   "cell_type": "code",
   "execution_count": 5,
   "metadata": {},
   "outputs": [
    {
     "data": {
      "text/plain": [
       "43"
      ]
     },
     "execution_count": 5,
     "metadata": {},
     "output_type": "execute_result"
    }
   ],
   "source": [
    "def DIFFRACTION(distance):\n",
    "    Thick0=0.00008\n",
    "    thickness_folding=43\n",
    "\n",
    "    for n in range(1,thickness_folding + 1):\n",
    "        thick=Thick0*pow(2,n)\n",
    "        if(thick>=distance):\n",
    "            break\n",
    "    return n\n",
    "\n",
    "non_sun_star=4.3*9500000000000\n",
    "diffraction(non_sun_star)"
   ]
  },
  {
   "cell_type": "code",
   "execution_count": 4,
   "metadata": {},
   "outputs": [
    {
     "name": "stdout",
     "output_type": "stream",
     "text": [
      "The length of the paper to the Moon is 2.8507428908408834e+34,\n",
      " On Mt. Fuji is 1.2659842144726804e+19\n",
      " and 2.8507428908408834e+34 to the closest star.\n"
     ]
    }
   ],
   "source": [
    "from math import pi\n",
    "def PAPER_LENGTH(thickness):\n",
    "    n=diffraction(thickness)\n",
    "    l=(1/6)*(pi*thickness)*(pow(2,n)+4)*(pow(2,n)-1)\n",
    "    return l\n",
    "\n",
    "print(\"The length of the paper to the Moon is {},\\n On Mt. Fuji is {}\\n and {} to the closest star.\".format(paper_length(Thick0*pow(2,43)),paper_length(Thick0*pow(2,26)),paper_length(Thick0*pow(2,43))))"
   ]
  },
  {
   "cell_type": "code",
   "execution_count": null,
   "metadata": {},
   "outputs": [],
   "source": []
  }
 ],
 "metadata": {
  "kernelspec": {
   "display_name": "Python 3",
   "language": "python",
   "name": "python3"
  },
  "language_info": {
   "codemirror_mode": {
    "name": "ipython",
    "version": 3
   },
   "file_extension": ".py",
   "mimetype": "text/x-python",
   "name": "python",
   "nbconvert_exporter": "python",
   "pygments_lexer": "ipython3",
   "version": "3.8.5"
  }
 },
 "nbformat": 4,
 "nbformat_minor": 4
}
