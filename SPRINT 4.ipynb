{
 "cells": [
  {
   "cell_type": "code",
   "execution_count": 2,
   "metadata": {},
   "outputs": [],
   "source": [
    "# import dependencies \n",
    "import pandas as pd\n",
    "import numpy as np\n",
    "from sklearn.model_selection import train_test_split"
   ]
  },
  {
   "cell_type": "code",
   "execution_count": 3,
   "metadata": {},
   "outputs": [],
   "source": [
    "\n",
    "# developing the model (logistic regression)\n",
    "class ScratchLogisticRegression():\n",
    "    \n",
    "    def __init__(self, num_iter=100, lr=0.01, bias=False, verbose=False):\n",
    "        self.iter = num_iter\n",
    "        self.lr = lr\n",
    "        self.bias = bias\n",
    "        self.verbose = verbose\n",
    "        self.lamda = 1/0.01\n",
    "        self.loss = np.zeros(self.iter)\n",
    "        self.val_loss = np.zeros(self.iter)\n",
    "    \n",
    "    def _check_for_bais(self,X):\n",
    "        if self.bias == True:\n",
    "            x1 = np.ones(X.shape[0])\n",
    "        else:\n",
    "            x1 = np.zeros(X.shape[0])\n",
    "        \n",
    "        return np.concatenate([x1.reshape(-1,1),X],axis=1)\n",
    "        \n",
    "        \n",
    "    def _sigmoid_function(self,X):\n",
    "        linear_model = np.dot(X,self.theta)\n",
    "        \n",
    "        return 1/(1+np.exp(-linear_model))\n",
    "    \n",
    "    def _gradient_descent(self, X, error):\n",
    "        self.tmp = np.append(0,np.ones(X.shape[1]-1))\n",
    "        self.theta -= self.lr*(np.dot(error,X) + self.tmp*self.lamda*self.theta)/len(X)\n",
    "        \n",
    "    def _loss_function(self, y, y_pred):\n",
    "        return np.mean(-y*np.log(y_pred) -(1-y)*np.log(1-y_pred))+0.5*self.lamda*np.mean(self.theta[1:]**2)\n",
    "        \n",
    "    def fit(self, X, y, X_val=False, y_val=False):\n",
    "        \n",
    "        self.ylabel = np.unique(y)\n",
    "        \n",
    "        y = np.where(y==self.ylabel[0],0,1)\n",
    "        \n",
    "        if (type(y_val) != bool):\n",
    "            y_val = np.where(y_val==self.ylabel[0],0,1)\n",
    "        \n",
    "        X = self._check_for_bais(X)\n",
    "        \n",
    "        self.theta = np.random.rand(X.shape[1])\n",
    "        \n",
    "        for i in range(self.iter):\n",
    "            y_pred = self._sigmoid_function(X)\n",
    "            error = y_pred - y            \n",
    "            self.loss[i] = self._loss_function(y,y_pred)\n",
    "            \n",
    "            if (type(X_val) != bool):\n",
    "                val_X = self._check_for_bais(X_val)\n",
    "                val_ypred = self._sigmoid_function(val_X)\n",
    "                \n",
    "                self.val_loss[i] = self._loss_function(y_val,val_ypred)\n",
    "            \n",
    "            self._gradient_descent(X, error)\n",
    "            \n",
    "            if self.verbose:\n",
    "                print('n_iter:', i,\n",
    "                      'loss:',self.loss[i],\n",
    "                      'theta:',self.theta)\n",
    "            \n",
    "        np.save('theta', self.theta)            \n",
    "\n",
    "    def predict(self, X):\n",
    "        X = self._check_for_bais(X)\n",
    "        y_pred = self._sigmoid_function(X)\n",
    "        \n",
    "        return np.where(y_pred<0.5,self.ylabel[0],self.ylabel[1])\n",
    "    \n",
    "    def predict_proba(self, X):\n",
    "        X = self._check_for_bais(X)\n",
    "        return self._sigmoid_function(X)"
   ]
  },
  {
   "cell_type": "markdown",
   "metadata": {},
   "source": [
    "### Problem 1-2\n",
    "They implemented in the above class"
   ]
  },
  {
   "cell_type": "markdown",
   "metadata": {},
   "source": [
    "### Problem 3\n",
    "Estimation"
   ]
  },
  {
   "cell_type": "code",
   "execution_count": 4,
   "metadata": {},
   "outputs": [],
   "source": [
    "# creating datasets\n",
    "from sklearn import datasets\n",
    "bc = datasets.load_breast_cancer()\n",
    "X, y = bc.data, bc.target"
   ]
  },
  {
   "cell_type": "code",
   "execution_count": 5,
   "metadata": {},
   "outputs": [
    {
     "name": "stderr",
     "output_type": "stream",
     "text": [
      "C:\\Users\\diveintocode\\anaconda3\\lib\\site-packages\\ipykernel_launcher.py:32: RuntimeWarning: divide by zero encountered in log\n",
      "C:\\Users\\diveintocode\\anaconda3\\lib\\site-packages\\ipykernel_launcher.py:32: RuntimeWarning: invalid value encountered in multiply\n",
      "C:\\Users\\diveintocode\\anaconda3\\lib\\site-packages\\ipykernel_launcher.py:25: RuntimeWarning: overflow encountered in exp\n"
     ]
    },
    {
     "name": "stdout",
     "output_type": "stream",
     "text": [
      "Labels  [0 0 0 0 0 0 0 0 1 1 0 0 1 0 0 0 1 0 0 0 0 0 0 0 0 0 0 0 0 0 0 0 0 0 0 0 0\n",
      " 0 0 0 0 0 0 0 0 0 1 0 0 0 0 0 0 0 0 0 0 0 0 0 0 0 0 0 0 0 0 0 0 1 0 0 0 0\n",
      " 0 0 1 0 0 0 0 0 0 0 0 0 0 1 0 0 1 0 0 0 0 1 0 0 0 0 1 0 0 0 0 1 0 0 0 0 0\n",
      " 0 0 0]\n",
      "Probability: [1.90378276e-144 5.62659410e-045 2.16604671e-057 4.26844883e-111\n",
      " 2.89648444e-013 3.41952288e-028 2.20067310e-001 2.84516814e-017\n",
      " 9.99999999e-001 9.99996449e-001 5.85566498e-096 1.36720724e-090\n",
      " 1.00000000e+000 6.59132659e-132 1.17503194e-097 6.93064206e-224\n",
      " 1.00000000e+000 0.00000000e+000 5.85022868e-168 0.00000000e+000\n",
      " 1.67184011e-210 2.02826829e-149 4.08322434e-063 2.74406760e-047\n",
      " 1.91776794e-212 5.66086197e-070 1.14335662e-038 1.60397433e-052\n",
      " 1.49418503e-062 0.00000000e+000 4.17669134e-037 0.00000000e+000\n",
      " 2.25839078e-075 4.29558537e-226 1.27703099e-006 3.48288230e-189\n",
      " 1.92541281e-087 6.02844026e-309 1.29689229e-077 3.15674276e-197\n",
      " 2.62681219e-133 8.54969522e-002 3.10778253e-220 5.10920973e-008\n",
      " 1.68131749e-087 0.00000000e+000 1.00000000e+000 1.45557094e-065\n",
      " 4.27922247e-019 1.11126417e-148 3.00722753e-191 1.64772544e-062\n",
      " 0.00000000e+000 1.77213472e-026 4.50583096e-033 1.13355450e-023\n",
      " 1.59486299e-003 1.11479709e-033 9.50607795e-034 0.00000000e+000\n",
      " 8.83170190e-113 1.83816908e-260 6.20240979e-023 9.21969072e-044\n",
      " 6.33583902e-309 3.02224154e-046 0.00000000e+000 4.00813425e-296\n",
      " 0.00000000e+000 9.99987212e-001 5.26011058e-130 5.49425409e-303\n",
      " 3.70280782e-031 1.62720843e-064 0.00000000e+000 1.21318802e-050\n",
      " 9.99999757e-001 4.73496098e-034 1.44473710e-053 2.62611473e-011\n",
      " 3.19059791e-180 5.39305312e-295 3.00954913e-290 1.51721506e-019\n",
      " 1.08836789e-181 1.87219663e-040 5.14886702e-081 1.00000000e+000\n",
      " 0.00000000e+000 0.00000000e+000 9.99898003e-001 1.80372061e-169\n",
      " 3.30658611e-108 1.52378318e-102 2.23994065e-011 8.45872503e-001\n",
      " 0.00000000e+000 2.07670748e-057 3.48816273e-038 4.54996046e-036\n",
      " 9.99999996e-001 1.29777858e-029 2.06488369e-070 1.08946761e-056\n",
      " 0.00000000e+000 9.99999975e-001 4.18525824e-216 1.59849011e-085\n",
      " 4.57153890e-150 1.01545316e-099 3.44811879e-063 5.55487786e-232\n",
      " 0.00000000e+000 5.10593144e-111]\n"
     ]
    }
   ],
   "source": [
    "# spliting the datasets into training and testing subsets\n",
    "X_train, X_test, y_train, y_test = train_test_split(X, y, test_size=0.2, random_state=0)\n",
    "\n",
    "# creating an instance of our model\n",
    "l_regression = ScratchLogisticRegression(num_iter=1000, lr=0.001, verbose=False)\n",
    "l_regression.fit(X_train,y_train,X_test,y_test)\n",
    "y_pred_label = l_regression.predict(X_test)\n",
    "y_pred_proba = l_regression.predict_proba(X_test)\n",
    "\n",
    "print(\"Labels \",y_pred_label)\n",
    "print(\"Probability:\",y_pred_proba)"
   ]
  },
  {
   "cell_type": "markdown",
   "metadata": {},
   "source": [
    "### Problem 4"
   ]
  },
  {
   "cell_type": "markdown",
   "metadata": {},
   "source": [
    "created in the class above (Objective function)"
   ]
  },
  {
   "cell_type": "markdown",
   "metadata": {},
   "source": [
    "### Problem 5\n",
    "Learning and estimation\n"
   ]
  },
  {
   "cell_type": "code",
   "execution_count": 6,
   "metadata": {},
   "outputs": [],
   "source": [
    "from sklearn.metrics import accuracy_score, precision_score, recall_score\n",
    "from sklearn.datasets import load_iris"
   ]
  },
  {
   "cell_type": "code",
   "execution_count": 7,
   "metadata": {},
   "outputs": [],
   "source": [
    "iris = load_iris()\n",
    "data = load_iris().data\n",
    "target = load_iris().target.reshape(-1,1)\n",
    "iris = np.concatenate([data,target],axis=1)\n",
    "iris = pd.DataFrame(iris)\n",
    "X_1 = iris.loc[iris[4]!=0,2:3].values\n",
    "y_1 = iris.loc[iris[4]!=0,4].values"
   ]
  },
  {
   "cell_type": "code",
   "execution_count": 8,
   "metadata": {},
   "outputs": [],
   "source": [
    "# spliting the datasets into training and testing subsets\n",
    "X_train_1, X_test_1, y_train_1, y_test_1 = train_test_split(X_1, y_1, test_size=0.2, random_state=0)"
   ]
  },
  {
   "cell_type": "code",
   "execution_count": 9,
   "metadata": {},
   "outputs": [
    {
     "name": "stdout",
     "output_type": "stream",
     "text": [
      "y pred: [1. 2. 1. 2. 2. 2. 1. 2. 2. 2. 2. 2. 2. 1. 1. 1. 1. 1. 2. 1.]\n"
     ]
    }
   ],
   "source": [
    "from sklearn.preprocessing import StandardScaler\n",
    "\n",
    "scaler = StandardScaler()\n",
    "scaler.fit(X_train_1)\n",
    "X_train_1 = scaler.transform(X_train_1)\n",
    "X_test_1= scaler.transform(X_test_1)\n",
    "\n",
    "# creating an instance of our model\n",
    "l_regression_1 = ScratchLogisticRegression(num_iter=500, lr=0.01, verbose=False)\n",
    "l_regression_1.fit(X_train_1,y_train_1,X_test_1,y_test_1)\n",
    "y_pred_label_1 = l_regression_1.predict(X_test_1)\n",
    "y_pred_proba_1 = l_regression_1.predict_proba(X_test_1)\n",
    "\n",
    "print(\"y pred:\",y_pred_label_1)"
   ]
  },
  {
   "cell_type": "code",
   "execution_count": 11,
   "metadata": {
    "scrolled": true
   },
   "outputs": [
    {
     "name": "stdout",
     "output_type": "stream",
     "text": [
      "-------------\n",
      "accuracy 0.95\n",
      "precision 0.9545454545454545\n",
      "recall 0.95\n"
     ]
    }
   ],
   "source": [
    "accuracy = accuracy_score(y_test_1, y_pred_label_1)\n",
    "precision = precision_score(y_test_1, y_pred_label_1, average='weighted')\n",
    "recall = recall_score(y_test_1, y_pred_label_1, average='weighted')\n",
    "\n",
    "print(\"-------------\")\n",
    "print(\"accuracy\", accuracy)\n",
    "print(\"precision\", precision)\n",
    "print(\"recall\", recall)"
   ]
  },
  {
   "cell_type": "markdown",
   "metadata": {},
   "source": [
    "### Problem 6"
   ]
  },
  {
   "cell_type": "code",
   "execution_count": 133,
   "metadata": {},
   "outputs": [
    {
     "data": {
      "image/png": "[encoded data removed]",
      "text/plain": [
       "<Figure size 1152x648 with 1 Axes>"
      ]
     },
     "metadata": {
      "needs_background": "light"
     },
     "output_type": "display_data"
    }
   ],
   "source": [
    "import matplotlib.pyplot as plt\n",
    "fig,ax = plt.subplots(figsize=(16,9))\n",
    "\n",
    "plt.rcParams[\"font.size\"] = 20\n",
    "plt.scatter(range(len(l_regression_1.loss)),l_regression_1.loss,label='Train loss')\n",
    "plt.scatter(range(len(l_regression_1.val_loss)),l_regression_1.val_loss,label='Val loss')\n",
    "plt.legend();"
   ]
  },
  {
   "cell_type": "code",
   "execution_count": 159,
   "metadata": {
    "scrolled": true
   },
   "outputs": [
    {
     "data": {
      "image/png": "[encoded data removed]",
      "text/plain": [
       "<Figure size 432x288 with 1 Axes>"
      ]
     },
     "metadata": {
      "needs_background": "light"
     },
     "output_type": "display_data"
    }
   ],
   "source": [
    "# problem 7\n",
    "from matplotlib.colors import ListedColormap\n",
    "import matplotlib.patches as mpatches\n",
    "\n",
    "def decision_region(X, y, model, step=0.01, title='decision region', xlabel='xlabel', ylabel='ylabel', target_names=['versicolor', 'virginica']):\n",
    "    # setting\n",
    "    scatter_color = ['red', 'blue']\n",
    "    contourf_color = ['pink', 'skyblue']\n",
    "    n_class = 2\n",
    "    # pred\n",
    "    mesh_f0, mesh_f1  = np.meshgrid(np.arange(np.min(X[:,0])-0.5, np.max(X[:,0])+0.5, step), np.arange(np.min(X[:,1])-0.5, np.max(X[:,1])+0.5, step))\n",
    "    mesh = np.c_[np.ravel(mesh_f0),np.ravel(mesh_f1)]\n",
    "    y_pred = model.predict(mesh).reshape(mesh_f0.shape)\n",
    "    # plot\n",
    "    plt.title(title)\n",
    "    plt.xlabel(xlabel)\n",
    "    plt.ylabel(ylabel)\n",
    "    plt.contourf(mesh_f0, mesh_f1, y_pred, n_class-1, cmap=ListedColormap(contourf_color))\n",
    "    plt.contour(mesh_f0, mesh_f1, y_pred, n_class-1, colors='y', linewidths=3, alpha=0.5)\n",
    "    for i, target in enumerate(set(y)):\n",
    "        plt.scatter(X[y==target][:, 0], X[y==target][:, 1], s=80, color=scatter_color[i], label=target_names[i], marker='o')\n",
    "    patches = [mpatches.Patch(color=scatter_color[i], label=target_names[i]) for i in range(n_class)]\n",
    "    plt.legend(handles=patches)\n",
    "    plt.legend()\n",
    "    plt.show()\n",
    "    \n",
    "decision_region(X_test_1, y_test_1, l_regression_1)"
   ]
  },
  {
   "cell_type": "markdown",
   "metadata": {},
   "source": [
    "### Problem 8"
   ]
  },
  {
   "cell_type": "code",
   "execution_count": 109,
   "metadata": {},
   "outputs": [
    {
     "data": {
      "text/plain": [
       "b'\\x80\\x03cnumpy.core.multiarray\\n_reconstruct\\nq\\x00cnumpy\\nndarray\\nq\\x01K\\x00\\x85q\\x02C\\x01bq\\x03\\x87q\\x04Rq\\x05(K\\x01K\\x04\\x85q\\x06cnumpy\\ndtype\\nq\\x07X\\x02\\x00\\x00\\x00f8q\\x08K\\x00K\\x01\\x87q\\tRq\\n(K\\x03X\\x01\\x00\\x00\\x00<q\\x0bNNNJ\\xff\\xff\\xff\\xffJ\\xff\\xff\\xff\\xffK\\x00tq\\x0cb\\x89C E\\xf8(\\\\\\xefO\\xca@\\xc1\\xba\\x1e\\x85oJ\\xb1@4\\xba\\x1e\\x85\\xd7(\\xc5@\\xf5S\\xb8\\x1eU\\xd9\\x9f@q\\rtq\\x0eb.'"
      ]
     },
     "execution_count": 109,
     "metadata": {},
     "output_type": "execute_result"
    }
   ],
   "source": [
    "import pickle \n",
    "\n",
    "pickle.dumps(l_regression_1.weights)"
   ]
  },
  {
   "cell_type": "code",
   "execution_count": 110,
   "metadata": {},
   "outputs": [],
   "source": [
    "from tempfile import TemporaryFile\n",
    "\n",
    "outfile = TemporaryFile()\n",
    "np.savez(outfile, l_regression_1.weights)"
   ]
  },
  {
   "cell_type": "code",
   "execution_count": null,
   "metadata": {},
   "outputs": [],
   "source": []
  }
 ],
 "metadata": {
  "kernelspec": {
   "display_name": "Python 3",
   "language": "python",
   "name": "python3"
  },
  "language_info": {
   "codemirror_mode": {
    "name": "ipython",
    "version": 3
   },
   "file_extension": ".py",
   "mimetype": "text/x-python",
   "name": "python",
   "nbconvert_exporter": "python",
   "pygments_lexer": "ipython3",
   "version": "3.8.5"
  }
 },
 "nbformat": 4,
 "nbformat_minor": 4
}
