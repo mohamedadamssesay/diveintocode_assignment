{
 "cells": [
  {
   "cell_type": "code",
   "execution_count": 1,
   "metadata": {},
   "outputs": [
    {
     "name": "stdout",
     "output_type": "stream",
     "text": [
      "Arrange wheat on a plate of 4 squares (list): [1, 2]\n",
      "Arrange wheat on a plate of 4 squares (list): [1, 2, 4]\n",
      "Arrange wheat on a plate of 4 squares (list): [1, 2, 4, 8]\n"
     ]
    }
   ],
   "source": [
    "n_squares = 4\n",
    "small_board_list = [ 1 ] \n",
    "\n",
    "for _ in range (n_squares - 1 ): \n",
    "    small_board_list.append ( 2 * small_board_list [- 1 ]) \n",
    "    print ( \"Arrange wheat on a plate of 4 squares (list): {}\" .format (small_board_list))"
   ]
  },
  {
   "cell_type": "markdown",
   "metadata": {},
   "source": [
    "# [Problem 1] Number of wheat on a 2 x 2 square chess board"
   ]
  },
  {
   "cell_type": "code",
   "execution_count": 2,
   "metadata": {},
   "outputs": [
    {
     "name": "stdout",
     "output_type": "stream",
     "text": [
      "The shape of small_board_ndarray was (4,) and the one of chess_board_ndarray is: (2, 2)\n",
      "The number of wheat on a 2 x 2 square board (ndarray) is: [[1 2]\n",
      " [4 8]]\n",
      "The number of wheat for the upper left square is: 1\n",
      "The number of wheat for the upper right square is: 2\n",
      "The number of wheat for the lower left square is: 4\n",
      "The number of wheat for the lower right square is: 8\n",
      "The total number of wheat is: 15\n"
     ]
    }
   ],
   "source": [
    "import numpy as np\n",
    "small_board_ndarray = np.array (small_board_list) \n",
    "chess_board_ndarray = small_board_ndarray.reshape(2, 2)\n",
    "print(f'The shape of small_board_ndarray was {small_board_ndarray.shape} and the one of chess_board_ndarray is: {chess_board_ndarray.shape}')\n",
    "\n",
    "print ( \"The number of wheat on a 2 x 2 square board (ndarray) is: {}\" .format (chess_board_ndarray))\n",
    "\n",
    "print('The number of wheat for the upper left square is:',chess_board_ndarray[0,0])\n",
    "print('The number of wheat for the upper right square is:',chess_board_ndarray[0,1])\n",
    "print('The number of wheat for the lower left square is:',chess_board_ndarray[1,0])\n",
    "print('The number of wheat for the lower right square is:',chess_board_ndarray[1,1])\n",
    "\n",
    "print('The total number of wheat is:',chess_board_ndarray.sum())"
   ]
  },
  {
   "cell_type": "markdown",
   "metadata": {},
   "source": [
    "# [Problem 2] Expansion to n × m mass"
   ]
  },
  {
   "cell_type": "code",
   "execution_count": 3,
   "metadata": {},
   "outputs": [
    {
     "name": "stdout",
     "output_type": "stream",
     "text": [
      "The number of wheat on a 4 x 4 square plate (ndarray) is: [[    1     2     4     8]\n",
      " [   16    32    64   128]\n",
      " [  256   512  1024  2048]\n",
      " [ 4096  8192 16384 32768]]\n",
      "The number of wheat on a 8 x 8 square plate (ndarray) is: [[1.00000000e+00 2.00000000e+00 4.00000000e+00 8.00000000e+00\n",
      "  1.60000000e+01 3.20000000e+01 6.40000000e+01 1.28000000e+02]\n",
      " [2.56000000e+02 5.12000000e+02 1.02400000e+03 2.04800000e+03\n",
      "  4.09600000e+03 8.19200000e+03 1.63840000e+04 3.27680000e+04]\n",
      " [6.55360000e+04 1.31072000e+05 2.62144000e+05 5.24288000e+05\n",
      "  1.04857600e+06 2.09715200e+06 4.19430400e+06 8.38860800e+06]\n",
      " [1.67772160e+07 3.35544320e+07 6.71088640e+07 1.34217728e+08\n",
      "  2.68435456e+08 5.36870912e+08 1.07374182e+09 2.14748365e+09]\n",
      " [4.29496730e+09 8.58993459e+09 1.71798692e+10 3.43597384e+10\n",
      "  6.87194767e+10 1.37438953e+11 2.74877907e+11 5.49755814e+11]\n",
      " [1.09951163e+12 2.19902326e+12 4.39804651e+12 8.79609302e+12\n",
      "  1.75921860e+13 3.51843721e+13 7.03687442e+13 1.40737488e+14]\n",
      " [2.81474977e+14 5.62949953e+14 1.12589991e+15 2.25179981e+15\n",
      "  4.50359963e+15 9.00719925e+15 1.80143985e+16 3.60287970e+16]\n",
      " [7.20575940e+16 1.44115188e+17 2.88230376e+17 5.76460752e+17\n",
      "  1.15292150e+18 2.30584301e+18 4.61168602e+18 9.22337204e+18]]\n"
     ]
    }
   ],
   "source": [
    "def number_of_wheat(n,m):\n",
    "    n_squares = n*m\n",
    "    small_board_list = [ 1 ]\n",
    "    \n",
    "    for _ in range (n_squares- 1 ): \n",
    "        small_board_list.append ( 2 * small_board_list [- 1 ])\n",
    "        \n",
    "        import numpy as np\n",
    "    small_board_ndarray = np.array (small_board_list)\n",
    "    chess_board_ndarray = small_board_ndarray.reshape(n, m)\n",
    "    print ( f'The number of wheat on a {n} x {m} square plate (ndarray) is: {chess_board_ndarray}')\n",
    "    \n",
    "number_of_wheat(4,4)\n",
    "number_of_wheat(8,8)"
   ]
  },
  {
   "cell_type": "markdown",
   "metadata": {},
   "source": [
    "\n",
    "# [Problem 3] Total number of wheat"
   ]
  },
  {
   "cell_type": "code",
   "execution_count": 4,
   "metadata": {},
   "outputs": [
    {
     "name": "stdout",
     "output_type": "stream",
     "text": [
      "The total number of wheat on a chess board of 8 x 8 squares is: 1.8446744073709552e+19\n",
      "The average number of wheat for each column is: [9.04252160e+15 1.80850432e+16 3.61700864e+16 7.23401728e+16\n",
      " 1.44680346e+17 2.89360691e+17 5.78721383e+17 1.15744277e+18]\n"
     ]
    },
    {
     "data": {
      "image/png": "[encoded data removed]",
      "text/plain": [
       "<Figure size 432x288 with 1 Axes>"
      ]
     },
     "metadata": {
      "needs_background": "light"
     },
     "output_type": "display_data"
    }
   ],
   "source": [
    "def total_wheat(n,m):\n",
    "    n_squares = n*m\n",
    "    small_board_list = [ 1 ] \n",
    "    \n",
    "    for _ in range (n_squares- 1 ): \n",
    "        small_board_list.append ( 2 * small_board_list [- 1 ])\n",
    "        \n",
    "    import numpy as np\n",
    "    small_board_ndarray = np.array (small_board_list)\n",
    "    chess_board_ndarray = small_board_ndarray.reshape(n, m)\n",
    "    print(f'The total number of wheat on a chess board of {n} x {m} squares is: {chess_board_ndarray.sum()}')\n",
    "    print('The average number of wheat for each column is:',chess_board_ndarray.mean(axis=0))\n",
    "    \n",
    "    import matplotlib.pyplot as plt\n",
    "    %matplotlib inline\n",
    "    \n",
    "    plt.xlabel(\"column\")\n",
    "    plt.ylabel(\"number\")\n",
    "    plt.title(\"number in each column\")\n",
    "    plt.bar(np.arange(8), np.array(chess_board_ndarray.mean(axis=0)))\n",
    "    plt.show()\n",
    "total_wheat(8,8)"
   ]
  },
  {
   "cell_type": "markdown",
   "metadata": {},
   "source": [
    "# [Problem 4] Heat map of the number of wheat"
   ]
  },
  {
   "cell_type": "code",
   "execution_count": 5,
   "metadata": {},
   "outputs": [
    {
     "name": "stdout",
     "output_type": "stream",
     "text": [
      "The total number of wheat is [1, 2, 4, 8, 16, 32, 64, 128, 256, 512, 1024, 2048, 4096, 8192, 16384, 32768, 65536, 131072, 262144, 524288, 1048576, 2097152, 4194304, 8388608, 16777216, 33554432, 67108864, 134217728, 268435456, 536870912, 1073741824, 2147483648, 4294967296, 8589934592, 17179869184, 34359738368, 68719476736, 137438953472, 274877906944, 549755813888, 1099511627776, 2199023255552, 4398046511104, 8796093022208, 17592186044416, 35184372088832, 70368744177664, 140737488355328, 281474976710656, 562949953421312, 1125899906842624, 2251799813685248, 4503599627370496, 9007199254740992, 18014398509481984, 36028797018963968, 72057594037927936, 144115188075855872, 288230376151711744, 576460752303423488, 1152921504606846976, 2305843009213693952, 4611686018427387904, 9223372036854775808]\n"
     ]
    },
    {
     "data": {
      "image/png": "[encoded data removed]",
      "text/plain": [
       "<Figure size 432x288 with 1 Axes>"
      ]
     },
     "metadata": {
      "needs_background": "light"
     },
     "output_type": "display_data"
    }
   ],
   "source": [
    "n_squares = 64\n",
    "small_board_list = [1]\n",
    "for _ in range(n_squares - 1):\n",
    "    small_board_list.append(2*small_board_list[-1])\n",
    "print(\"The total number of wheat is {}\". format(small_board_list))\n",
    "\n",
    "import matplotlib.pyplot as plt\n",
    "%matplotlib inline\n",
    "\n",
    "plt.xlabel(\"column\")\n",
    "plt.ylabel(\"row\")\n",
    "plt.title(\"heatmap\")\n",
    "plt.pcolor(np.array([small_board_list]).reshape(8,8))\n",
    "plt.show()"
   ]
  },
  {
   "cell_type": "markdown",
   "metadata": {},
   "source": [
    "# [Problem 5] How many times is the second half of the first half?"
   ]
  },
  {
   "cell_type": "code",
   "execution_count": 6,
   "metadata": {},
   "outputs": [
    {
     "name": "stdout",
     "output_type": "stream",
     "text": [
      "The number of times the second half of the chess board is greater than the first half for a 4 x 4 board is: 256.0\n",
      "The number of times the second half of the chess board is greater than the first half for a 8 x 8 board is: 4294967296.0\n"
     ]
    }
   ],
   "source": [
    "def multiple(n,m):\n",
    "    n_squares = n*m\n",
    "    small_board_list = [ 1 ]\n",
    "    \n",
    "    for _ in range (n_squares- 1 ): \n",
    "        small_board_list.append ( 2 * small_board_list [- 1 ])\n",
    "        \n",
    "    import numpy as np\n",
    "    small_board_ndarray = np.array (small_board_list)\n",
    "    chess_board_ndarray = small_board_ndarray.reshape(n, m)\n",
    "    \n",
    "    row = chess_board_ndarray.sum(axis=1)\n",
    "    a = int(len(row)/2)\n",
    "    \n",
    "    first_half = row[0:a].sum()\n",
    "    second_half = row[a:].sum()\n",
    "    mul = second_half/first_half\n",
    "    \n",
    "    print(f'The number of times the second half of the chess board is greater than the first half for a {n} x {m} board is:',mul)\n",
    "    \n",
    "multiple(4,4)\n",
    "multiple(8,8)"
   ]
  },
  {
   "cell_type": "markdown",
   "metadata": {},
   "source": [
    "# [Problem 6] Expansion to n × m mass by another calculation method"
   ]
  },
  {
   "cell_type": "code",
   "execution_count": 7,
   "metadata": {},
   "outputs": [
    {
     "name": "stdout",
     "output_type": "stream",
     "text": [
      "Number of wheat on a 8 x 8 chess board is 18446744073709551615\n",
      "Arrange wheat on a 8 x 8 square board (ndarray): [[                  1                   2                   4\n",
      "                    8                  16                  32\n",
      "                   64                 128]\n",
      " [                256                 512                1024\n",
      "                 2048                4096                8192\n",
      "                16384               32768]\n",
      " [              65536              131072              262144\n",
      "               524288             1048576             2097152\n",
      "              4194304             8388608]\n",
      " [           16777216            33554432            67108864\n",
      "            134217728           268435456           536870912\n",
      "           1073741824          2147483648]\n",
      " [         4294967296          8589934592         17179869184\n",
      "          34359738368         68719476736        137438953472\n",
      "         274877906944        549755813888]\n",
      " [      1099511627776       2199023255552       4398046511104\n",
      "        8796093022208      17592186044416      35184372088832\n",
      "       70368744177664     140737488355328]\n",
      " [    281474976710656     562949953421312    1125899906842624\n",
      "     2251799813685248    4503599627370496    9007199254740992\n",
      "    18014398509481984   36028797018963968]\n",
      " [  72057594037927936  144115188075855872  288230376151711744\n",
      "   576460752303423488 1152921504606846976 2305843009213693952\n",
      "  4611686018427387904 9223372036854775808]]\n"
     ]
    }
   ],
   "source": [
    "def number_of_wheat(n,m):\n",
    "    n_squares = n*m\n",
    "\n",
    "    indices_of_squares = np.arange(n_squares).astype(np.uint64)\n",
    "    board_ndarray = 2**indices_of_squares\n",
    "    chess_board_ndarray = board_ndarray.reshape(n, m)\n",
    "    \n",
    "    print ( f'Number of wheat on a {n} x {m} chess board is {board_ndarray.sum()}')\n",
    "    print ( f\"Arrange wheat on a {n} x {m} square board (ndarray): {chess_board_ndarray}\")\n",
    "    \n",
    "number_of_wheat(8,8)"
   ]
  },
  {
   "cell_type": "markdown",
   "metadata": {},
   "source": [
    "# [Problem 7] Comparing calculation times"
   ]
  },
  {
   "cell_type": "code",
   "execution_count": 8,
   "metadata": {},
   "outputs": [
    {
     "name": "stdout",
     "output_type": "stream",
     "text": [
      "Arrange wheat on a plate of 4 squares (list): [1, 2]\n",
      "Arrange wheat on a plate of 4 squares (list): [1, 2, 4]\n",
      "Arrange wheat on a plate of 4 squares (list): [1, 2, 4, 8]\n"
     ]
    }
   ],
   "source": [
    "n_squares = 4\n",
    "small_board_list = [ 1 ]\n",
    "\n",
    "for _ in range (n_squares- 1 ): \n",
    "    small_board_list.append ( 2 * small_board_list [- 1 ]) \n",
    "    print ( \"Arrange wheat on a plate of 4 squares (list): {}\" .format (small_board_list))"
   ]
  },
  {
   "cell_type": "code",
   "execution_count": 9,
   "metadata": {},
   "outputs": [
    {
     "name": "stdout",
     "output_type": "stream",
     "text": [
      " Arrange wheat on a 4-square board (ndarray): [1 2 4 8] \n",
      "2.26 ms ± 0 ns per loop (mean ± std. dev. of 1 run, 1 loop each)\n"
     ]
    }
   ],
   "source": [
    "%%timeit -r1 -n1\n",
    "n_squares = 4\n",
    "small_board_ndarray = np.array([1])\n",
    "\n",
    "for _ in range(n_squares - 1):\n",
    "    small_board_ndarray = np.append(small_board_ndarray, 2*small_board_ndarray[-1])\n",
    "print ( \" Arrange wheat on a 4-square board (ndarray): {} \" .format (small_board_ndarray))"
   ]
  },
  {
   "cell_type": "code",
   "execution_count": 10,
   "metadata": {},
   "outputs": [
    {
     "name": "stdout",
     "output_type": "stream",
     "text": [
      " Arrange wheat on a 4-square board (ndarray): [1 2 4 8] \n",
      "1.04 ms ± 0 ns per loop (mean ± std. dev. of 1 run, 1 loop each)\n"
     ]
    }
   ],
   "source": [
    "%%timeit -r1 -n1\n",
    "n_squares = 4\n",
    "indices_of_squares = np.arange(n_squares)\n",
    "small_board_ndarray = 2**indices_of_squares\n",
    "print ( \" Arrange wheat on a 4-square board (ndarray): {} \" .format (small_board_ndarray))"
   ]
  },
  {
   "cell_type": "code",
   "execution_count": 11,
   "metadata": {},
   "outputs": [],
   "source": [
    "#Comparison\n",
    "\n",
    "#The calculation speed seems to be greater using the first method when the for loop is used without np.append().\n",
    "\n",
    "#On the other hand, when I used it with np.append(), the execution takes more time and it is slower than using broadcast."
   ]
  },
  {
   "cell_type": "code",
   "execution_count": null,
   "metadata": {},
   "outputs": [],
   "source": []
  }
 ],
 "metadata": {
  "kernelspec": {
   "display_name": "Python 3",
   "language": "python",
   "name": "python3"
  },
  "language_info": {
   "codemirror_mode": {
    "name": "ipython",
    "version": 3
   },
   "file_extension": ".py",
   "mimetype": "text/x-python",
   "name": "python",
   "nbconvert_exporter": "python",
   "pygments_lexer": "ipython3",
   "version": "3.8.5"
  }
 },
 "nbformat": 4,
 "nbformat_minor": 4
}
